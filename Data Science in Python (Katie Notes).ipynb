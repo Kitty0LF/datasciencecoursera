{
 "cells": [
  {
   "cell_type": "markdown",
   "metadata": {},
   "source": [
    "# Using Series with Pandas"
   ]
  },
  {
   "cell_type": "code",
   "execution_count": 3,
   "metadata": {
    "collapsed": true
   },
   "outputs": [],
   "source": [
    "# Import numpy and pandas\n",
    "import numpy as np\n",
    "import pandas as pd;"
   ]
  },
  {
   "cell_type": "code",
   "execution_count": 4,
   "metadata": {
    "collapsed": false
   },
   "outputs": [
    {
     "data": {
      "text/plain": [
       "0        golf\n",
       "1    football\n",
       "2       darts\n",
       "dtype: object"
      ]
     },
     "execution_count": 4,
     "metadata": {},
     "output_type": "execute_result"
    }
   ],
   "source": [
    "#creating a series from a list\n",
    "sports = ['golf', 'football', 'darts']\n",
    "s = pd.Series(sports)\n",
    "s"
   ]
  },
  {
   "cell_type": "code",
   "execution_count": 5,
   "metadata": {
    "collapsed": false
   },
   "outputs": [
    {
     "data": {
      "text/plain": [
       "Achery            Bhutan\n",
       "Golf            Scotland\n",
       "Sumo               Japan\n",
       "Taekwondo    South Korea\n",
       "dtype: object"
      ]
     },
     "execution_count": 5,
     "metadata": {},
     "output_type": "execute_result"
    }
   ],
   "source": [
    "#creating a series from a dictionary\n",
    "sports2 = {'Achery':'Bhutan',\n",
    "          'Golf': 'Scotland',\n",
    "          'Sumo': 'Japan',\n",
    "          'Taekwondo': 'South Korea'}\n",
    "s2 = pd.Series(sports2)\n",
    "s2"
   ]
  },
  {
   "cell_type": "code",
   "execution_count": 6,
   "metadata": {
    "collapsed": false
   },
   "outputs": [
    {
     "data": {
      "text/plain": [
       "'football'"
      ]
     },
     "execution_count": 6,
     "metadata": {},
     "output_type": "execute_result"
    }
   ],
   "source": [
    "# Query by index three ways..\n",
    "s[1] == s.iloc[1]\n",
    "s[1]"
   ]
  },
  {
   "cell_type": "code",
   "execution_count": 7,
   "metadata": {
    "collapsed": false
   },
   "outputs": [
    {
     "data": {
      "text/plain": [
       "'South Korea'"
      ]
     },
     "execution_count": 7,
     "metadata": {},
     "output_type": "execute_result"
    }
   ],
   "source": [
    "# option 1 - use the index order\n",
    "s2[3]"
   ]
  },
  {
   "cell_type": "code",
   "execution_count": 8,
   "metadata": {
    "collapsed": false
   },
   "outputs": [
    {
     "data": {
      "text/plain": [
       "'South Korea'"
      ]
     },
     "execution_count": 8,
     "metadata": {},
     "output_type": "execute_result"
    }
   ],
   "source": [
    "# option 2 - use the index label via loc\n",
    "s2.loc['Taekwondo']"
   ]
  },
  {
   "cell_type": "code",
   "execution_count": 9,
   "metadata": {
    "collapsed": false
   },
   "outputs": [
    {
     "data": {
      "text/plain": [
       "'South Korea'"
      ]
     },
     "execution_count": 9,
     "metadata": {},
     "output_type": "execute_result"
    }
   ],
   "source": [
    "# option 3 - use the index position via iloc\n",
    "s2.iloc[3]"
   ]
  },
  {
   "cell_type": "markdown",
   "metadata": {},
   "source": [
    "# Common Series Tasks"
   ]
  },
  {
   "cell_type": "code",
   "execution_count": 10,
   "metadata": {
    "collapsed": false
   },
   "outputs": [
    {
     "data": {
      "text/plain": [
       "0    539\n",
       "1    732\n",
       "2     98\n",
       "3    669\n",
       "4     32\n",
       "5    187\n",
       "6    268\n",
       "7    774\n",
       "8    809\n",
       "9    393\n",
       "dtype: int32"
      ]
     },
     "execution_count": 10,
     "metadata": {},
     "output_type": "execute_result"
    }
   ],
   "source": [
    "#create a series of 10,000 random intergers ranging in value between 0-819\n",
    "s = pd.Series(np.random.randint(0,819,10000))\n",
    "s.head(10)"
   ]
  },
  {
   "cell_type": "code",
   "execution_count": 11,
   "metadata": {
    "collapsed": false
   },
   "outputs": [
    {
     "data": {
      "text/plain": [
       "10000"
      ]
     },
     "execution_count": 11,
     "metadata": {},
     "output_type": "execute_result"
    }
   ],
   "source": [
    "#check length of s\n",
    "len(s)"
   ]
  },
  {
   "cell_type": "markdown",
   "metadata": {},
   "source": [
    "magic function begin with a % or %% sign . type in % and tab to view of fuctions.\n",
    "testing two different python methods of sum:"
   ]
  },
  {
   "cell_type": "code",
   "execution_count": 12,
   "metadata": {
    "collapsed": false
   },
   "outputs": [
    {
     "name": "stdout",
     "output_type": "stream",
     "text": [
      "100 loops, best of 3: 1.33 ms per loop\n"
     ]
    }
   ],
   "source": [
    "%%timeit -n 100\n",
    "summary = 0\n",
    "for item in s:\n",
    "    summary+= item"
   ]
  },
  {
   "cell_type": "code",
   "execution_count": 13,
   "metadata": {
    "collapsed": false
   },
   "outputs": [
    {
     "name": "stdout",
     "output_type": "stream",
     "text": [
      "100 loops, best of 3: 217 µs per loop\n"
     ]
    }
   ],
   "source": [
    "%%timeit -n 100\n",
    "summary2 = np.sum(s)"
   ]
  },
  {
   "cell_type": "code",
   "execution_count": 30,
   "metadata": {
    "collapsed": false
   },
   "outputs": [
    {
     "data": {
      "text/plain": [
       "0    634\n",
       "1    456\n",
       "2    703\n",
       "3    508\n",
       "4    337\n",
       "5    501\n",
       "6    700\n",
       "7     22\n",
       "8    693\n",
       "9    443\n",
       "dtype: int32"
      ]
     },
     "execution_count": 30,
     "metadata": {},
     "output_type": "execute_result"
    }
   ],
   "source": [
    "#adding 2 to every number in series\n",
    "s += 2\n",
    "s.head(10)"
   ]
  },
  {
   "cell_type": "code",
   "execution_count": 14,
   "metadata": {
    "collapsed": false
   },
   "outputs": [
    {
     "data": {
      "text/plain": [
       "0    1078\n",
       "1    1464\n",
       "2     196\n",
       "3    1338\n",
       "4      64\n",
       "5     374\n",
       "6     536\n",
       "7    1548\n",
       "8    1618\n",
       "9     786\n",
       "dtype: int32"
      ]
     },
     "execution_count": 14,
     "metadata": {},
     "output_type": "execute_result"
    }
   ],
   "source": [
    "# multiplying 2 to every number in series\n",
    "s *= 2\n",
    "s.head(10)"
   ]
  },
  {
   "cell_type": "markdown",
   "metadata": {},
   "source": [
    "# Dataframes"
   ]
  },
  {
   "cell_type": "code",
   "execution_count": 15,
   "metadata": {
    "collapsed": false
   },
   "outputs": [
    {
     "data": {
      "text/html": [
       "<div>\n",
       "<table border=\"1\" class=\"dataframe\">\n",
       "  <thead>\n",
       "    <tr style=\"text-align: right;\">\n",
       "      <th></th>\n",
       "      <th>Cost</th>\n",
       "      <th>Item Purchased</th>\n",
       "      <th>Name</th>\n",
       "    </tr>\n",
       "  </thead>\n",
       "  <tbody>\n",
       "    <tr>\n",
       "      <th>Store 1</th>\n",
       "      <td>22.5</td>\n",
       "      <td>Dog Food</td>\n",
       "      <td>Chris</td>\n",
       "    </tr>\n",
       "    <tr>\n",
       "      <th>Store 1</th>\n",
       "      <td>2.5</td>\n",
       "      <td>Kitty Litter</td>\n",
       "      <td>Kevyn</td>\n",
       "    </tr>\n",
       "    <tr>\n",
       "      <th>Store 2</th>\n",
       "      <td>5.0</td>\n",
       "      <td>Bird Seed</td>\n",
       "      <td>Vinod</td>\n",
       "    </tr>\n",
       "  </tbody>\n",
       "</table>\n",
       "</div>"
      ],
      "text/plain": [
       "         Cost Item Purchased   Name\n",
       "Store 1  22.5       Dog Food  Chris\n",
       "Store 1   2.5   Kitty Litter  Kevyn\n",
       "Store 2   5.0      Bird Seed  Vinod"
      ]
     },
     "execution_count": 15,
     "metadata": {},
     "output_type": "execute_result"
    }
   ],
   "source": [
    "#creating a dataframe\n",
    "\n",
    "purchase_1 = pd.Series({'Name': 'Chris',\n",
    "                        'Item Purchased': 'Dog Food',\n",
    "                        'Cost': 22.50})\n",
    "purchase_2 = pd.Series({'Name': 'Kevyn',\n",
    "                        'Item Purchased': 'Kitty Litter',\n",
    "                        'Cost': 2.50})\n",
    "purchase_3 = pd.Series({'Name': 'Vinod',\n",
    "                        'Item Purchased': 'Bird Seed',\n",
    "                        'Cost': 5.00})\n",
    "\n",
    "df = pd.DataFrame([purchase_1, purchase_2, purchase_3], index=['Store 1', 'Store 1', 'Store 2'])\n",
    "df"
   ]
  },
  {
   "cell_type": "code",
   "execution_count": 16,
   "metadata": {
    "collapsed": false
   },
   "outputs": [
    {
     "data": {
      "text/plain": [
       "Store 1        Dog Food\n",
       "Store 1    Kitty Litter\n",
       "Store 2       Bird Seed\n",
       "Name: Item Purchased, dtype: object"
      ]
     },
     "execution_count": 16,
     "metadata": {},
     "output_type": "execute_result"
    }
   ],
   "source": [
    "#querying a dataframe\n",
    "df['Item Purchased']"
   ]
  },
  {
   "cell_type": "code",
   "execution_count": 17,
   "metadata": {
    "collapsed": false
   },
   "outputs": [
    {
     "data": {
      "text/plain": [
       "Cost                      5\n",
       "Item Purchased    Bird Seed\n",
       "Name                  Vinod\n",
       "Name: Store 2, dtype: object"
      ]
     },
     "execution_count": 17,
     "metadata": {},
     "output_type": "execute_result"
    }
   ],
   "source": [
    "df.iloc[2]"
   ]
  },
  {
   "cell_type": "code",
   "execution_count": 18,
   "metadata": {
    "collapsed": false
   },
   "outputs": [
    {
     "data": {
      "text/plain": [
       "'Chris'"
      ]
     },
     "execution_count": 18,
     "metadata": {},
     "output_type": "execute_result"
    }
   ],
   "source": [
    "df.iloc[0][\"Name\"]"
   ]
  },
  {
   "cell_type": "code",
   "execution_count": 19,
   "metadata": {
    "collapsed": false
   },
   "outputs": [
    {
     "data": {
      "text/html": [
       "<div>\n",
       "<table border=\"1\" class=\"dataframe\">\n",
       "  <thead>\n",
       "    <tr style=\"text-align: right;\">\n",
       "      <th></th>\n",
       "      <th>Cost</th>\n",
       "      <th>Item Purchased</th>\n",
       "      <th>Name</th>\n",
       "    </tr>\n",
       "  </thead>\n",
       "  <tbody>\n",
       "    <tr>\n",
       "      <th>Store 1</th>\n",
       "      <td>22.5</td>\n",
       "      <td>Dog Food</td>\n",
       "      <td>Chris</td>\n",
       "    </tr>\n",
       "    <tr>\n",
       "      <th>Store 1</th>\n",
       "      <td>2.5</td>\n",
       "      <td>Kitty Litter</td>\n",
       "      <td>Kevyn</td>\n",
       "    </tr>\n",
       "  </tbody>\n",
       "</table>\n",
       "</div>"
      ],
      "text/plain": [
       "         Cost Item Purchased   Name\n",
       "Store 1  22.5       Dog Food  Chris\n",
       "Store 1   2.5   Kitty Litter  Kevyn"
      ]
     },
     "execution_count": 19,
     "metadata": {},
     "output_type": "execute_result"
    }
   ],
   "source": [
    "df.loc['Store 1']"
   ]
  },
  {
   "cell_type": "code",
   "execution_count": 20,
   "metadata": {
    "collapsed": false
   },
   "outputs": [
    {
     "data": {
      "text/plain": [
       "Store 1    22.5\n",
       "Store 1     2.5\n",
       "Name: Cost, dtype: float64"
      ]
     },
     "execution_count": 20,
     "metadata": {},
     "output_type": "execute_result"
    }
   ],
   "source": [
    "df.loc['Store 1','Cost']"
   ]
  },
  {
   "cell_type": "code",
   "execution_count": 21,
   "metadata": {
    "collapsed": false
   },
   "outputs": [
    {
     "data": {
      "text/html": [
       "<div>\n",
       "<table border=\"1\" class=\"dataframe\">\n",
       "  <thead>\n",
       "    <tr style=\"text-align: right;\">\n",
       "      <th></th>\n",
       "      <th>Store 1</th>\n",
       "      <th>Store 1</th>\n",
       "      <th>Store 2</th>\n",
       "    </tr>\n",
       "  </thead>\n",
       "  <tbody>\n",
       "    <tr>\n",
       "      <th>Cost</th>\n",
       "      <td>22.5</td>\n",
       "      <td>2.5</td>\n",
       "      <td>5</td>\n",
       "    </tr>\n",
       "    <tr>\n",
       "      <th>Item Purchased</th>\n",
       "      <td>Dog Food</td>\n",
       "      <td>Kitty Litter</td>\n",
       "      <td>Bird Seed</td>\n",
       "    </tr>\n",
       "    <tr>\n",
       "      <th>Name</th>\n",
       "      <td>Chris</td>\n",
       "      <td>Kevyn</td>\n",
       "      <td>Vinod</td>\n",
       "    </tr>\n",
       "  </tbody>\n",
       "</table>\n",
       "</div>"
      ],
      "text/plain": [
       "                 Store 1       Store 1    Store 2\n",
       "Cost                22.5           2.5          5\n",
       "Item Purchased  Dog Food  Kitty Litter  Bird Seed\n",
       "Name               Chris         Kevyn      Vinod"
      ]
     },
     "execution_count": 21,
     "metadata": {},
     "output_type": "execute_result"
    }
   ],
   "source": [
    "#Transposing data frames..\n",
    "df.T"
   ]
  },
  {
   "cell_type": "code",
   "execution_count": 22,
   "metadata": {
    "collapsed": false
   },
   "outputs": [
    {
     "data": {
      "text/plain": [
       "Store 1    Chris\n",
       "Store 1    Kevyn\n",
       "Store 2    Vinod\n",
       "Name: Name, dtype: object"
      ]
     },
     "execution_count": 22,
     "metadata": {},
     "output_type": "execute_result"
    }
   ],
   "source": [
    "df['Name']"
   ]
  },
  {
   "cell_type": "code",
   "execution_count": 23,
   "metadata": {
    "collapsed": false
   },
   "outputs": [
    {
     "data": {
      "text/html": [
       "<div>\n",
       "<table border=\"1\" class=\"dataframe\">\n",
       "  <thead>\n",
       "    <tr style=\"text-align: right;\">\n",
       "      <th></th>\n",
       "      <th>Cost</th>\n",
       "      <th>Item Purchased</th>\n",
       "      <th>Name</th>\n",
       "    </tr>\n",
       "  </thead>\n",
       "  <tbody>\n",
       "    <tr>\n",
       "      <th>Store 2</th>\n",
       "      <td>5.0</td>\n",
       "      <td>Bird Seed</td>\n",
       "      <td>Vinod</td>\n",
       "    </tr>\n",
       "  </tbody>\n",
       "</table>\n",
       "</div>"
      ],
      "text/plain": [
       "         Cost Item Purchased   Name\n",
       "Store 2   5.0      Bird Seed  Vinod"
      ]
     },
     "execution_count": 23,
     "metadata": {},
     "output_type": "execute_result"
    }
   ],
   "source": [
    "#dropping data is only by view unless assigning a new object or using the del function\n",
    "df.drop('Store 1')"
   ]
  },
  {
   "cell_type": "code",
   "execution_count": 52,
   "metadata": {
    "collapsed": false,
    "scrolled": true
   },
   "outputs": [
    {
     "data": {
      "text/html": [
       "<div>\n",
       "<table border=\"1\" class=\"dataframe\">\n",
       "  <thead>\n",
       "    <tr style=\"text-align: right;\">\n",
       "      <th></th>\n",
       "      <th>Cost</th>\n",
       "      <th>Item Purchased</th>\n",
       "      <th>Name</th>\n",
       "    </tr>\n",
       "  </thead>\n",
       "  <tbody>\n",
       "    <tr>\n",
       "      <th>Store 1</th>\n",
       "      <td>22.5</td>\n",
       "      <td>Dog Food</td>\n",
       "      <td>Chris</td>\n",
       "    </tr>\n",
       "    <tr>\n",
       "      <th>Store 1</th>\n",
       "      <td>2.5</td>\n",
       "      <td>Kitty Litter</td>\n",
       "      <td>Kevyn</td>\n",
       "    </tr>\n",
       "    <tr>\n",
       "      <th>Store 2</th>\n",
       "      <td>5.0</td>\n",
       "      <td>Bird Seed</td>\n",
       "      <td>Vinod</td>\n",
       "    </tr>\n",
       "  </tbody>\n",
       "</table>\n",
       "</div>"
      ],
      "text/plain": [
       "         Cost Item Purchased   Name\n",
       "Store 1  22.5       Dog Food  Chris\n",
       "Store 1   2.5   Kitty Litter  Kevyn\n",
       "Store 2   5.0      Bird Seed  Vinod"
      ]
     },
     "execution_count": 52,
     "metadata": {},
     "output_type": "execute_result"
    }
   ],
   "source": [
    "df"
   ]
  },
  {
   "cell_type": "code",
   "execution_count": 24,
   "metadata": {
    "collapsed": false
   },
   "outputs": [
    {
     "data": {
      "text/html": [
       "<div>\n",
       "<table border=\"1\" class=\"dataframe\">\n",
       "  <thead>\n",
       "    <tr style=\"text-align: right;\">\n",
       "      <th></th>\n",
       "      <th>Cost</th>\n",
       "      <th>Item Purchased</th>\n",
       "      <th>Name</th>\n",
       "    </tr>\n",
       "  </thead>\n",
       "  <tbody>\n",
       "    <tr>\n",
       "      <th>Store 2</th>\n",
       "      <td>5.0</td>\n",
       "      <td>Bird Seed</td>\n",
       "      <td>Vinod</td>\n",
       "    </tr>\n",
       "  </tbody>\n",
       "</table>\n",
       "</div>"
      ],
      "text/plain": [
       "         Cost Item Purchased   Name\n",
       "Store 2   5.0      Bird Seed  Vinod"
      ]
     },
     "execution_count": 24,
     "metadata": {},
     "output_type": "execute_result"
    }
   ],
   "source": [
    "df_copy = df.copy()\n",
    "df_copy = df_copy.drop('Store 1')\n",
    "df_copy"
   ]
  },
  {
   "cell_type": "code",
   "execution_count": 25,
   "metadata": {
    "collapsed": false
   },
   "outputs": [
    {
     "data": {
      "text/html": [
       "<div>\n",
       "<table border=\"1\" class=\"dataframe\">\n",
       "  <thead>\n",
       "    <tr style=\"text-align: right;\">\n",
       "      <th></th>\n",
       "      <th>Cost</th>\n",
       "      <th>Item Purchased</th>\n",
       "    </tr>\n",
       "  </thead>\n",
       "  <tbody>\n",
       "    <tr>\n",
       "      <th>Store 2</th>\n",
       "      <td>5.0</td>\n",
       "      <td>Bird Seed</td>\n",
       "    </tr>\n",
       "  </tbody>\n",
       "</table>\n",
       "</div>"
      ],
      "text/plain": [
       "         Cost Item Purchased\n",
       "Store 2   5.0      Bird Seed"
      ]
     },
     "execution_count": 25,
     "metadata": {},
     "output_type": "execute_result"
    }
   ],
   "source": [
    "del df_copy['Name']\n",
    "df_copy"
   ]
  },
  {
   "cell_type": "code",
   "execution_count": 26,
   "metadata": {
    "collapsed": false,
    "scrolled": true
   },
   "outputs": [
    {
     "data": {
      "text/html": [
       "<div>\n",
       "<table border=\"1\" class=\"dataframe\">\n",
       "  <thead>\n",
       "    <tr style=\"text-align: right;\">\n",
       "      <th></th>\n",
       "      <th>Cost</th>\n",
       "      <th>Item Purchased</th>\n",
       "      <th>Name</th>\n",
       "      <th>Location</th>\n",
       "    </tr>\n",
       "  </thead>\n",
       "  <tbody>\n",
       "    <tr>\n",
       "      <th>Store 1</th>\n",
       "      <td>22.5</td>\n",
       "      <td>Dog Food</td>\n",
       "      <td>Chris</td>\n",
       "      <td>None</td>\n",
       "    </tr>\n",
       "    <tr>\n",
       "      <th>Store 1</th>\n",
       "      <td>2.5</td>\n",
       "      <td>Kitty Litter</td>\n",
       "      <td>Kevyn</td>\n",
       "      <td>None</td>\n",
       "    </tr>\n",
       "    <tr>\n",
       "      <th>Store 2</th>\n",
       "      <td>5.0</td>\n",
       "      <td>Bird Seed</td>\n",
       "      <td>Vinod</td>\n",
       "      <td>None</td>\n",
       "    </tr>\n",
       "  </tbody>\n",
       "</table>\n",
       "</div>"
      ],
      "text/plain": [
       "         Cost Item Purchased   Name Location\n",
       "Store 1  22.5       Dog Food  Chris     None\n",
       "Store 1   2.5   Kitty Litter  Kevyn     None\n",
       "Store 2   5.0      Bird Seed  Vinod     None"
      ]
     },
     "execution_count": 26,
     "metadata": {},
     "output_type": "execute_result"
    }
   ],
   "source": [
    "# adding a new column with a default value\n",
    "df ['Location'] = None\n",
    "df"
   ]
  },
  {
   "cell_type": "code",
   "execution_count": 27,
   "metadata": {
    "collapsed": false,
    "scrolled": true
   },
   "outputs": [
    {
     "data": {
      "text/html": [
       "<div>\n",
       "<table border=\"1\" class=\"dataframe\">\n",
       "  <thead>\n",
       "    <tr style=\"text-align: right;\">\n",
       "      <th></th>\n",
       "      <th>Cost</th>\n",
       "      <th>Item Purchased</th>\n",
       "      <th>Name</th>\n",
       "      <th>Location</th>\n",
       "    </tr>\n",
       "  </thead>\n",
       "  <tbody>\n",
       "    <tr>\n",
       "      <th>Store 1</th>\n",
       "      <td>18.0</td>\n",
       "      <td>Dog Food</td>\n",
       "      <td>Chris</td>\n",
       "      <td>None</td>\n",
       "    </tr>\n",
       "    <tr>\n",
       "      <th>Store 1</th>\n",
       "      <td>2.0</td>\n",
       "      <td>Kitty Litter</td>\n",
       "      <td>Kevyn</td>\n",
       "      <td>None</td>\n",
       "    </tr>\n",
       "    <tr>\n",
       "      <th>Store 2</th>\n",
       "      <td>4.0</td>\n",
       "      <td>Bird Seed</td>\n",
       "      <td>Vinod</td>\n",
       "      <td>None</td>\n",
       "    </tr>\n",
       "  </tbody>\n",
       "</table>\n",
       "</div>"
      ],
      "text/plain": [
       "         Cost Item Purchased   Name Location\n",
       "Store 1  18.0       Dog Food  Chris     None\n",
       "Store 1   2.0   Kitty Litter  Kevyn     None\n",
       "Store 2   4.0      Bird Seed  Vinod     None"
      ]
     },
     "execution_count": 27,
     "metadata": {},
     "output_type": "execute_result"
    }
   ],
   "source": [
    "#updating all costs by applying 20% discount\n",
    "df['Cost'] *= 0.8\n",
    "df"
   ]
  },
  {
   "cell_type": "code",
   "execution_count": 29,
   "metadata": {
    "collapsed": false
   },
   "outputs": [
    {
     "data": {
      "text/html": [
       "<div>\n",
       "<table border=\"1\" class=\"dataframe\">\n",
       "  <thead>\n",
       "    <tr style=\"text-align: right;\">\n",
       "      <th></th>\n",
       "      <th>Cost</th>\n",
       "      <th>Item Purchased</th>\n",
       "      <th>Name</th>\n",
       "      <th>Location</th>\n",
       "    </tr>\n",
       "  </thead>\n",
       "  <tbody>\n",
       "    <tr>\n",
       "      <th>Store 1</th>\n",
       "      <td>18.0</td>\n",
       "      <td>Dog Food</td>\n",
       "      <td>Chris</td>\n",
       "      <td>None</td>\n",
       "    </tr>\n",
       "  </tbody>\n",
       "</table>\n",
       "</div>"
      ],
      "text/plain": [
       "         Cost Item Purchased   Name Location\n",
       "Store 1  18.0       Dog Food  Chris     None"
      ]
     },
     "execution_count": 29,
     "metadata": {},
     "output_type": "execute_result"
    }
   ],
   "source": [
    "#finding a specific string in a specific column and only returning matching results\n",
    "df[df['Item Purchased'].str.contains('Food')]"
   ]
  },
  {
   "cell_type": "code",
   "execution_count": 31,
   "metadata": {
    "collapsed": false
   },
   "outputs": [
    {
     "data": {
      "text/html": [
       "<div>\n",
       "<table border=\"1\" class=\"dataframe\">\n",
       "  <thead>\n",
       "    <tr style=\"text-align: right;\">\n",
       "      <th></th>\n",
       "      <th>Item Purchased</th>\n",
       "      <th>Cost</th>\n",
       "    </tr>\n",
       "  </thead>\n",
       "  <tbody>\n",
       "    <tr>\n",
       "      <th>Store 1</th>\n",
       "      <td>Dog Food</td>\n",
       "      <td>18.0</td>\n",
       "    </tr>\n",
       "    <tr>\n",
       "      <th>Store 1</th>\n",
       "      <td>Kitty Litter</td>\n",
       "      <td>2.0</td>\n",
       "    </tr>\n",
       "    <tr>\n",
       "      <th>Store 2</th>\n",
       "      <td>Bird Seed</td>\n",
       "      <td>4.0</td>\n",
       "    </tr>\n",
       "  </tbody>\n",
       "</table>\n",
       "</div>"
      ],
      "text/plain": [
       "        Item Purchased  Cost\n",
       "Store 1       Dog Food  18.0\n",
       "Store 1   Kitty Litter   2.0\n",
       "Store 2      Bird Seed   4.0"
      ]
     },
     "execution_count": 31,
     "metadata": {},
     "output_type": "execute_result"
    }
   ],
   "source": [
    "#Only displaying index and sected columns\n",
    "df[['Item Purchased','Cost']]"
   ]
  },
  {
   "cell_type": "markdown",
   "metadata": {},
   "source": [
    "# Week 2 Assignment"
   ]
  },
  {
   "cell_type": "code",
   "execution_count": 127,
   "metadata": {
    "collapsed": false
   },
   "outputs": [
    {
     "data": {
      "text/html": [
       "<div>\n",
       "<table border=\"1\" class=\"dataframe\">\n",
       "  <thead>\n",
       "    <tr style=\"text-align: right;\">\n",
       "      <th></th>\n",
       "      <th>#summer</th>\n",
       "      <th>gold</th>\n",
       "      <th>silver</th>\n",
       "      <th>bronze</th>\n",
       "      <th>Total</th>\n",
       "      <th>#winter</th>\n",
       "      <th>gold.1</th>\n",
       "      <th>silver.1</th>\n",
       "      <th>bronze.1</th>\n",
       "      <th>Total.1</th>\n",
       "      <th>#games</th>\n",
       "      <th>gold.2</th>\n",
       "      <th>silver.2</th>\n",
       "      <th>bronze.2</th>\n",
       "      <th>Total.2</th>\n",
       "    </tr>\n",
       "  </thead>\n",
       "  <tbody>\n",
       "    <tr>\n",
       "      <th>Afghanistan</th>\n",
       "      <td>14</td>\n",
       "      <td>0</td>\n",
       "      <td>0</td>\n",
       "      <td>2</td>\n",
       "      <td>2</td>\n",
       "      <td>0</td>\n",
       "      <td>0</td>\n",
       "      <td>0</td>\n",
       "      <td>0</td>\n",
       "      <td>0</td>\n",
       "      <td>14</td>\n",
       "      <td>0</td>\n",
       "      <td>0</td>\n",
       "      <td>2</td>\n",
       "      <td>2</td>\n",
       "    </tr>\n",
       "    <tr>\n",
       "      <th>Algeria</th>\n",
       "      <td>13</td>\n",
       "      <td>5</td>\n",
       "      <td>4</td>\n",
       "      <td>8</td>\n",
       "      <td>17</td>\n",
       "      <td>3</td>\n",
       "      <td>0</td>\n",
       "      <td>0</td>\n",
       "      <td>0</td>\n",
       "      <td>0</td>\n",
       "      <td>16</td>\n",
       "      <td>5</td>\n",
       "      <td>4</td>\n",
       "      <td>8</td>\n",
       "      <td>17</td>\n",
       "    </tr>\n",
       "    <tr>\n",
       "      <th>Argentina</th>\n",
       "      <td>24</td>\n",
       "      <td>21</td>\n",
       "      <td>25</td>\n",
       "      <td>28</td>\n",
       "      <td>74</td>\n",
       "      <td>18</td>\n",
       "      <td>0</td>\n",
       "      <td>0</td>\n",
       "      <td>0</td>\n",
       "      <td>0</td>\n",
       "      <td>42</td>\n",
       "      <td>21</td>\n",
       "      <td>25</td>\n",
       "      <td>28</td>\n",
       "      <td>74</td>\n",
       "    </tr>\n",
       "    <tr>\n",
       "      <th>Armenia</th>\n",
       "      <td>6</td>\n",
       "      <td>2</td>\n",
       "      <td>5</td>\n",
       "      <td>7</td>\n",
       "      <td>14</td>\n",
       "      <td>6</td>\n",
       "      <td>0</td>\n",
       "      <td>0</td>\n",
       "      <td>0</td>\n",
       "      <td>0</td>\n",
       "      <td>12</td>\n",
       "      <td>2</td>\n",
       "      <td>5</td>\n",
       "      <td>7</td>\n",
       "      <td>14</td>\n",
       "    </tr>\n",
       "    <tr>\n",
       "      <th>Australasia</th>\n",
       "      <td>2</td>\n",
       "      <td>3</td>\n",
       "      <td>4</td>\n",
       "      <td>5</td>\n",
       "      <td>12</td>\n",
       "      <td>0</td>\n",
       "      <td>0</td>\n",
       "      <td>0</td>\n",
       "      <td>0</td>\n",
       "      <td>0</td>\n",
       "      <td>2</td>\n",
       "      <td>3</td>\n",
       "      <td>4</td>\n",
       "      <td>5</td>\n",
       "      <td>12</td>\n",
       "    </tr>\n",
       "  </tbody>\n",
       "</table>\n",
       "</div>"
      ],
      "text/plain": [
       "             #summer  gold  silver  bronze Total  #winter  gold.1  silver.1  \\\n",
       "Afghanistan       14     0       0       2     2        0       0         0   \n",
       "Algeria           13     5       4       8    17        3       0         0   \n",
       "Argentina         24    21      25      28    74       18       0         0   \n",
       "Armenia            6     2       5       7    14        6       0         0   \n",
       "Australasia        2     3       4       5    12        0       0         0   \n",
       "\n",
       "             bronze.1  Total.1  #games  gold.2  silver.2  bronze.2 Total.2  \n",
       "Afghanistan         0        0      14       0         0         2       2  \n",
       "Algeria             0        0      16       5         4         8      17  \n",
       "Argentina           0        0      42      21        25        28      74  \n",
       "Armenia             0        0      12       2         5         7      14  \n",
       "Australasia         0        0       2       3         4         5      12  "
      ]
     },
     "execution_count": 127,
     "metadata": {},
     "output_type": "execute_result"
    }
   ],
   "source": [
    "import pandas as pd\n",
    "path = r'C:\\Users\\Katie\\Documents\\Python Scripts\\olympics.csv'\n",
    "df = pd.read_csv(path, index_col = 0, encoding = 'latin1', skiprows = 0)\n",
    "df.head()"
   ]
  },
  {
   "cell_type": "code",
   "execution_count": 128,
   "metadata": {
    "collapsed": false
   },
   "outputs": [
    {
     "data": {
      "text/plain": [
       "'United States'"
      ]
     },
     "execution_count": 128,
     "metadata": {},
     "output_type": "execute_result"
    }
   ],
   "source": [
    "# Question 1 - Which country has won the most gold medals in summer games?\n",
    "def answer_one():\n",
    "    df['country'] = df.index\n",
    "    max_g_country = df.where(df['gold']== df['gold'].max())\n",
    "    ans_line = max_g_country.dropna()\n",
    "    return ans_line.iloc[0]['country']\n",
    "\n",
    "answer_one()"
   ]
  },
  {
   "cell_type": "code",
   "execution_count": 131,
   "metadata": {
    "collapsed": false
   },
   "outputs": [
    {
     "data": {
      "text/plain": [
       "'United States'"
      ]
     },
     "execution_count": 131,
     "metadata": {},
     "output_type": "execute_result"
    }
   ],
   "source": [
    "# Question 2 - which country had the biggest difference between their summer and winter gold medal counts?\n",
    "def answer_two():\n",
    "    df['difference'] = abs(df['gold'] - df['gold.1'])\n",
    "    biggest_diff_country = df.where(df['difference'] == df['difference'].max())\n",
    "    return biggest_diff_country.dropna()['country'][0]\n",
    "answer_two()"
   ]
  },
  {
   "cell_type": "code",
   "execution_count": 167,
   "metadata": {
    "collapsed": false
   },
   "outputs": [
    {
     "data": {
      "text/plain": [
       "'Bulgaria'"
      ]
     },
     "execution_count": 167,
     "metadata": {},
     "output_type": "execute_result"
    }
   ],
   "source": [
    "def answer_three():\n",
    "    df['difference ratio'] = df['difference']/df['gold.2']\n",
    "    a = df[(df['gold'] > 0) & (df['gold.1'] > 0)]\n",
    "    biggest_diff_r = a.where(a['difference ratio'] == a['difference ratio'].max())\n",
    "    return biggest_diff_r.dropna()['country'][0]\n",
    "\n",
    "answer_three()\n",
    "    "
   ]
  },
  {
   "cell_type": "code",
   "execution_count": 171,
   "metadata": {
    "collapsed": false
   },
   "outputs": [
    {
     "data": {
      "text/plain": [
       "Afghanistan                            2\n",
       "Algeria                               31\n",
       "Argentina                            141\n",
       "Armenia                               23\n",
       "Australasia                           22\n",
       "Australia                            979\n",
       "Austria                              570\n",
       "Azerbaijan                            68\n",
       "Bahamas                               28\n",
       "Bahrain                                6\n",
       "Barbados                               1\n",
       "Belarus                              159\n",
       "Belgium                              289\n",
       "Bermuda                                1\n",
       "Bohemia                                5\n",
       "Botswana                               2\n",
       "Brazil                               225\n",
       "British West Indies                    2\n",
       "Bulgaria                             415\n",
       "Burundi                                5\n",
       "Cameroon                              12\n",
       "Canada                               879\n",
       "Chile                                 24\n",
       "China                               1252\n",
       "Colombia                              45\n",
       "Costa Rica                             7\n",
       "Cte d'Ivoire                          6\n",
       "Croatia                               90\n",
       "Cuba                                 442\n",
       "Cyprus                                 2\n",
       "                                    ... \n",
       "Sri Lanka                              4\n",
       "Sudan                                  2\n",
       "Suriname                               4\n",
       "Sweden                              1238\n",
       "Switzerland                          645\n",
       "Syria                                  6\n",
       "Chinese Taipei                        41\n",
       "Tajikistan                             7\n",
       "Tanzania                               4\n",
       "Thailand                              57\n",
       "Togo                                   1\n",
       "Tonga                                  2\n",
       "Trinidad and Tobago                   30\n",
       "Tunisia                               23\n",
       "Turkey                               193\n",
       "Uganda                                14\n",
       "Ukraine                              230\n",
       "United Arab Emirates                   4\n",
       "United States                       5934\n",
       "Uruguay                               16\n",
       "Uzbekistan                            56\n",
       "Venezuela                             22\n",
       "Vietnam                                9\n",
       "Virgin Islands                         2\n",
       "Yugoslavia                           171\n",
       "Zambia                                 3\n",
       "Zimbabwe                              18\n",
       "Independent Olympic Athletes           4\n",
       "Independent Olympic Participants       4\n",
       "Mixed team                            38\n",
       "dtype: int64"
      ]
     },
     "execution_count": 171,
     "metadata": {},
     "output_type": "execute_result"
    }
   ],
   "source": [
    "def answer_four():\n",
    "    Points = pd.Series((df['gold.2']*3) + (df['silver.2']*2) + (df['bronze.2']) )\n",
    "    return Points\n",
    "\n",
    "answer_four()"
   ]
  },
  {
   "cell_type": "markdown",
   "metadata": {
    "collapsed": true
   },
   "source": [
    "# Numpy Features"
   ]
  },
  {
   "cell_type": "code",
   "execution_count": 5,
   "metadata": {
    "collapsed": false
   },
   "outputs": [
    {
     "data": {
      "text/plain": [
       "dtype('float64')"
      ]
     },
     "execution_count": 5,
     "metadata": {},
     "output_type": "execute_result"
    }
   ],
   "source": [
    "import numpy as np\n",
    "\n",
    "arr = np.array([1,2,3,4,5]) #convert list to array\n",
    "arr = arr.astype(np.float64) #convert type to float64\n",
    "arr.dtype"
   ]
  },
  {
   "cell_type": "code",
   "execution_count": 10,
   "metadata": {
    "collapsed": false
   },
   "outputs": [
    {
     "ename": "AttributeError",
     "evalue": "module 'numpy' has no attribute 'astype'",
     "output_type": "error",
     "traceback": [
      "\u001b[0;31m---------------------------------------------------------------------------\u001b[0m",
      "\u001b[0;31mAttributeError\u001b[0m                            Traceback (most recent call last)",
      "\u001b[0;32m<ipython-input-10-641b8d5add97>\u001b[0m in \u001b[0;36m<module>\u001b[0;34m()\u001b[0m\n\u001b[1;32m      1\u001b[0m \u001b[0marr\u001b[0m \u001b[1;33m=\u001b[0m \u001b[0mnp\u001b[0m\u001b[1;33m.\u001b[0m\u001b[0marray\u001b[0m\u001b[1;33m(\u001b[0m\u001b[1;33m[\u001b[0m\u001b[1;34m'1'\u001b[0m\u001b[1;33m,\u001b[0m \u001b[1;34m'2.4'\u001b[0m\u001b[1;33m,\u001b[0m \u001b[1;34m'3.0'\u001b[0m\u001b[1;33m,\u001b[0m \u001b[1;34m'4'\u001b[0m\u001b[1;33m,\u001b[0m \u001b[1;34m'5.2'\u001b[0m\u001b[1;33m]\u001b[0m\u001b[1;33m,\u001b[0m \u001b[0mdtype\u001b[0m\u001b[1;33m=\u001b[0m\u001b[0mnp\u001b[0m\u001b[1;33m.\u001b[0m\u001b[0mstring_\u001b[0m\u001b[1;33m)\u001b[0m\u001b[1;33m\u001b[0m\u001b[0m\n\u001b[0;32m----> 2\u001b[0;31m \u001b[0marr_s\u001b[0m \u001b[1;33m=\u001b[0m \u001b[0mnp\u001b[0m\u001b[1;33m.\u001b[0m\u001b[0mastype\u001b[0m\u001b[1;33m(\u001b[0m\u001b[0mfloat\u001b[0m\u001b[1;33m)\u001b[0m\u001b[1;33m\u001b[0m\u001b[0m\n\u001b[0m\u001b[1;32m      3\u001b[0m \u001b[0marr_s\u001b[0m\u001b[1;33m\u001b[0m\u001b[0m\n",
      "\u001b[0;31mAttributeError\u001b[0m: module 'numpy' has no attribute 'astype'"
     ]
    }
   ],
   "source": [
    "arr = np.array(['1', '2.4', '3.0', '4', '5.2'], dtype=np.string_)\n",
    "arr_s = np.astype(float)\n",
    "arr_s"
   ]
  },
  {
   "cell_type": "code",
   "execution_count": 29,
   "metadata": {
    "collapsed": false
   },
   "outputs": [
    {
     "name": "stdout",
     "output_type": "stream",
     "text": [
      "steps for space #1 are: 8\n",
      "steps for space #3 are: 8\n"
     ]
    },
    {
     "data": {
      "text/plain": [
       "3"
      ]
     },
     "execution_count": 29,
     "metadata": {},
     "output_type": "execute_result"
    }
   ],
   "source": [
    "def best_parking_spot(arr):\n",
    "    store = arr.index(\"STORE\")\n",
    "    taken = []\n",
    "    corral = []\n",
    "    open_ = []\n",
    "    for i, j in enumerate(arr):\n",
    "        if j == \"TAKEN\":  taken.append(i)\n",
    "        if j == \"CORRAL\": corral.append(i)\n",
    "        if j == \"OPEN\":   open_.append(i)\n",
    "    \n",
    "    total_steps = 100\n",
    "    best = 0\n",
    "    for p in open_:\n",
    "        for n in range(0, len(corral)):\n",
    "            steps = 2*(p-store)+2*abs((p-corral[n]))\n",
    "            if steps < total_steps:\n",
    "                total_steps = steps\n",
    "                best = p\n",
    "            if steps == total_steps:\n",
    "                if p > best:\n",
    "                    best = p\n",
    "            \n",
    "    return best\n",
    "\n",
    "best_parking_spot([\"STORE\",\"OPEN\",\"TAKEN\",\"OPEN\",\"CORRAL\"])"
   ]
  },
  {
   "cell_type": "markdown",
   "metadata": {
    "collapsed": true
   },
   "source": [
    "# Distributions in Pandas"
   ]
  },
  {
   "cell_type": "code",
   "execution_count": 2,
   "metadata": {
    "collapsed": false
   },
   "outputs": [
    {
     "data": {
      "text/plain": [
       "4981"
      ]
     },
     "execution_count": 2,
     "metadata": {},
     "output_type": "execute_result"
    }
   ],
   "source": [
    "import pandas as pd\n",
    "import numpy as np\n",
    "\n",
    "#Draw 1000 samples (n) from a binomial distribution with a probability of sucess is 0.5\n",
    "np.random.binomial(10000,0.5) "
   ]
  },
  {
   "cell_type": "code",
   "execution_count": 3,
   "metadata": {
    "collapsed": false
   },
   "outputs": [
    {
     "data": {
      "text/plain": [
       "array([ 4,  5,  6,  8,  6,  5,  4,  6,  4,  8,  7,  5,  4,  7,  3,  4,  6,\n",
       "        4,  5,  6,  7,  6,  4,  6,  5,  4,  3,  5,  4,  8,  4,  7,  5,  5,\n",
       "        6,  4,  4,  4,  3,  1,  5,  4,  4,  2,  5,  6,  4,  4,  5,  4,  4,\n",
       "        5,  7,  4,  3,  3,  7,  5,  5,  6,  8,  2,  6,  5,  6,  5,  8,  5,\n",
       "        2,  7,  8,  2,  5,  7,  3,  4,  4,  7,  9,  8,  5,  5,  7,  4,  6,\n",
       "        5,  7,  5,  5,  2,  3,  5,  7,  6,  5,  6,  7,  6,  5,  5,  6,  4,\n",
       "        1,  8,  5,  5,  4,  7,  4,  6,  7,  5,  6,  4,  3,  6,  3,  2,  3,\n",
       "        4,  7,  7,  4,  4,  4,  4,  5,  4,  4,  2,  2,  5,  7,  7,  7,  4,\n",
       "        3,  7,  1,  5,  4,  4,  6,  3,  7,  7,  5,  7,  7,  4,  8,  5,  7,\n",
       "        2,  7,  6,  6,  5,  6,  5,  7,  7,  5,  4,  4,  2,  4,  3,  4,  4,\n",
       "        4,  4,  4,  4,  5,  6,  4,  6,  6,  6,  5,  5,  5,  8,  6,  4,  2,\n",
       "        4,  3,  0,  4,  6,  3,  5,  6,  3,  5,  3,  3,  6,  5,  3,  5,  5,\n",
       "        5,  5,  4,  4,  5,  3,  3,  5,  3,  4,  7,  3,  6,  6,  7,  5,  4,\n",
       "        8,  4,  6,  4,  5,  3,  4,  7,  7,  7,  4,  6,  3,  4,  6,  2,  6,\n",
       "        4,  4,  3,  5,  4,  7,  4,  6,  5,  6,  4,  5,  3,  7,  7,  4,  2,\n",
       "        4,  6,  5,  7,  6,  6,  5,  4,  5,  7,  6,  7,  4,  8,  7,  4,  7,\n",
       "        4,  3,  5,  4,  4,  6,  6,  8,  6,  5,  4,  4,  5,  2,  6,  5,  7,\n",
       "        4,  5,  7,  4,  5,  5,  6,  5,  3,  6,  3,  4,  3,  7,  4,  2,  4,\n",
       "        6,  3,  4,  5,  3,  3,  5,  6,  4,  3,  4,  3,  7,  5,  4,  2,  6,\n",
       "        5,  5,  7,  4,  3,  4,  5,  6,  2,  3,  3,  5,  2,  6,  5,  4,  4,\n",
       "        5,  5,  7,  6,  6,  6,  3,  5,  4,  5,  6,  4,  5,  6,  5,  4,  5,\n",
       "        6,  5,  4,  5,  8,  5,  4,  7,  4,  5,  5,  7,  4,  7,  4,  8,  5,\n",
       "        4,  5,  5,  5,  3,  3,  4,  6,  3,  6,  4,  6,  5,  6,  4,  6,  5,\n",
       "        4,  6,  9,  4,  5,  6,  7,  2,  4,  5,  5,  6,  5,  4,  6,  8,  4,\n",
       "        5,  4,  6,  3,  6,  5,  3,  5,  4,  5,  4,  8,  2,  8,  3,  4,  5,\n",
       "        7,  3,  4,  4,  5,  4,  5,  5,  4,  5,  8,  4,  5,  5,  5,  6,  8,\n",
       "        3,  5,  5,  5,  2,  6,  3,  2,  6,  6,  6,  5,  7,  5,  5,  4,  5,\n",
       "        4,  4,  7,  6,  6,  5,  3,  8,  3,  8,  8,  6,  3,  7,  7,  4,  6,\n",
       "        6,  7,  5,  7,  7,  2,  5,  8,  4,  9,  7,  3,  4,  5,  6,  5,  3,\n",
       "        6,  5,  6,  3,  4,  4,  7,  5,  5,  4,  6,  3,  4,  3,  4,  5,  8,\n",
       "        5,  6,  6,  4,  6,  4,  6,  5,  4,  6,  5,  7,  7,  4,  7,  3,  6,\n",
       "        7,  4,  7,  4,  4,  9,  4,  6,  3,  5,  4,  6,  6,  3,  5,  2,  8,\n",
       "        5,  4,  6,  6,  4,  4,  4,  7,  8,  4,  5,  3,  3,  8,  5,  7,  4,\n",
       "        6,  4,  5,  6,  7,  6,  4,  7,  4,  3,  9,  5,  7,  4,  6,  6,  5,\n",
       "        3,  3,  4,  7,  3,  7,  6,  5,  6,  5,  6,  6,  6,  6,  1,  3,  5,\n",
       "        6,  4,  8,  4,  5,  5,  6,  7,  6,  4,  5,  5,  9,  4,  7,  4,  6,\n",
       "        5,  5,  2,  1,  6,  5,  5,  5,  5,  8,  5,  3,  8,  3,  8,  6,  4,\n",
       "        4,  7,  4,  4,  5,  4,  5,  7,  5,  7,  5,  4,  6,  4,  6,  6,  4,\n",
       "        5,  3,  7,  6,  5,  5,  5,  3,  3,  3,  4,  7,  7,  6,  8,  4,  5,\n",
       "        5,  5,  5,  6,  4,  3,  6,  6,  7,  4,  7,  7,  7,  6,  6,  6,  6,\n",
       "        5,  4,  5,  4,  5,  5,  5,  2,  7,  4,  6,  6,  4,  5,  7,  5,  7,\n",
       "        3,  4,  4,  5,  3,  4,  3,  6,  7,  5,  5,  5,  6,  7,  7,  4,  6,\n",
       "        3,  4,  3,  4,  6,  7,  6,  1,  5,  5,  6,  3,  5,  6,  9,  7, 10,\n",
       "        6,  7,  4,  6,  7,  6,  5,  3,  5,  6,  4,  4,  4,  5,  4,  5,  4,\n",
       "        6,  6,  2,  4,  5,  6,  6,  3,  4,  4,  5,  4,  4,  3,  8,  3,  5,\n",
       "        5,  3,  5,  8,  6,  2,  4,  2,  4,  5,  2,  8,  4,  5,  7,  5,  3,\n",
       "        8,  4,  3,  7,  6,  5,  4,  5,  8,  4,  2,  5,  7,  6,  5,  7,  6,\n",
       "        3,  5,  6,  7,  7,  4,  3,  4,  5,  3,  6,  6,  3,  5,  3,  2,  2,\n",
       "        6,  1,  6,  7,  3,  6,  3,  6,  4,  5,  5,  3,  4,  3,  5,  6,  7,\n",
       "        5,  7,  5,  6,  7,  6,  3,  7,  7,  6,  5,  6,  3,  6,  4,  6,  6,\n",
       "        4,  4,  8,  5,  5,  5,  5,  5,  4,  5,  5,  4,  3,  3,  6,  3,  6,\n",
       "        5,  5,  5,  7,  6,  7,  6,  4,  6,  8,  7,  6,  4,  5,  5,  5,  4,\n",
       "        5,  6,  3,  5,  6,  4,  5,  5,  6,  4,  4,  3,  6,  3,  3,  5,  4,\n",
       "        2,  6,  7,  5,  7,  7,  7,  4,  5,  6,  7,  5,  8,  4,  5,  7,  7,\n",
       "        3,  3,  6,  4,  4,  5,  5,  7,  6,  7,  6,  5,  7,  5,  7,  2,  6,\n",
       "        7,  6,  7,  5,  7,  4,  3,  9,  6,  6,  5,  4,  2,  6,  7,  6,  7,\n",
       "        5,  5,  6,  2,  6,  5,  5,  5,  8,  3,  2,  5,  1,  4,  3,  3,  3,\n",
       "        4,  4,  4,  4,  3,  6,  8,  4,  4,  5,  6,  7,  5,  6,  5,  8,  3,\n",
       "        2,  4,  6,  0,  4,  5,  6,  6,  3,  7,  3,  5,  6,  2])"
      ]
     },
     "execution_count": 3,
     "metadata": {},
     "output_type": "execute_result"
    }
   ],
   "source": [
    "#Flipping a coin 10 times, tested 1000 times\n",
    "\n",
    "n, p = 10, 0.5\n",
    "np.random.binomial(n, p, 1000)\n",
    "#displays raw results of 10000 tests of how many times coin lands on heads. "
   ]
  },
  {
   "cell_type": "code",
   "execution_count": 20,
   "metadata": {
    "collapsed": false
   },
   "outputs": [
    {
     "data": {
      "text/plain": [
       "0.38955000000000001"
      ]
     },
     "execution_count": 20,
     "metadata": {},
     "output_type": "execute_result"
    }
   ],
   "source": [
    "'''A Company drills 9 wild-cat oil exploration wells, each with an \n",
    "estimated probability of sucess of 0.1. All nine wells fail. What is\n",
    "the probability of that happening?'''\n",
    "\n",
    "sum(np.random.binomial(9,0.1, 20000) == 0)/20000.\n",
    "\n",
    "#ans is based on 20,000 tests of the scenario."
   ]
  },
  {
   "cell_type": "code",
   "execution_count": 33,
   "metadata": {
    "collapsed": false
   },
   "outputs": [
    {
     "name": "stdout",
     "output_type": "stream",
     "text": [
      "6 tornadoes back to back in 200 years\n"
     ]
    }
   ],
   "source": [
    "chance_of_tornado = 0.01\n",
    "tornado_events = np.random.binomial(1, chance_of_tornado, (365*200))\n",
    "two_days_in_a_row = 0\n",
    "for e in range(1, len(tornado_events)-1):\n",
    "    if tornado_events[e] == 1 and tornado_events[e-1] == 1:\n",
    "        two_days_in_a_row += 1\n",
    "        \n",
    "print ( '{} tornadoes back to back in {} years'.format(two_days_in_a_row, (365*200)//365))        "
   ]
  },
  {
   "cell_type": "code",
   "execution_count": 36,
   "metadata": {
    "collapsed": false
   },
   "outputs": [
    {
     "data": {
      "text/plain": [
       "0.7969260542835425"
      ]
     },
     "execution_count": 36,
     "metadata": {},
     "output_type": "execute_result"
    }
   ],
   "source": [
    "#draw a number from a unifrm distrbution between 0 and 1\n",
    "np.random.uniform(0, 1)"
   ]
  },
  {
   "cell_type": "code",
   "execution_count": 50,
   "metadata": {
    "collapsed": false
   },
   "outputs": [
    {
     "data": {
      "text/plain": [
       "True"
      ]
     },
     "execution_count": 50,
     "metadata": {},
     "output_type": "execute_result"
    }
   ],
   "source": [
    "#draw 1000 samples from a uniform distribution betwwrn -1 and 1:\n",
    "sample = np.random.uniform(-1,1,2000)\n",
    "\n",
    "# all samples are equal to or greater than the lower range \n",
    "# and less than the upper range\n",
    "np.all(sample >= -1) and np.all(sample < 1)\n"
   ]
  },
  {
   "cell_type": "code",
   "execution_count": 55,
   "metadata": {
    "collapsed": false
   },
   "outputs": [
    {
     "data": {
      "image/png": "[encoded data removed]",
      "text/plain": [
       "<matplotlib.figure.Figure at 0x245094382b0>"
      ]
     },
     "metadata": {},
     "output_type": "display_data"
    }
   ],
   "source": [
    "# Display histogram of the samples, along with their ptrobability density \n",
    "# function\n",
    "\n",
    "import matplotlib.pyplot as plt\n",
    "\n",
    "count, bins, ignored = plt.hist(sample, 20, normed = True, color = 'g')\n",
    "plt.plot(bins, np.ones_like(bins), linewidth = 2, color = 'b')\n",
    "\n",
    "plt.show()"
   ]
  },
  {
   "cell_type": "code",
   "execution_count": 73,
   "metadata": {
    "collapsed": false
   },
   "outputs": [],
   "source": [
    "#Guassian or Normal Distribution\n",
    "mu, sigma, size = 0, 0.1, 500 #Where mu is mean and sigma os standard deviation)\n",
    "\n",
    "np.random.normal(mu, sigma) #provides a random data point in the distribution described\n",
    "sample = np.random.normal(mu, sigma, size) #provides array of values in the dist. given the sample size"
   ]
  },
  {
   "cell_type": "code",
   "execution_count": 71,
   "metadata": {
    "collapsed": false
   },
   "outputs": [
    {
     "data": {
      "image/png": "[encoded data removed]",
      "text/plain": [
       "<matplotlib.figure.Figure at 0x245098e0588>"
      ]
     },
     "metadata": {},
     "output_type": "display_data"
    }
   ],
   "source": [
    "import matplotlib.pyplot as plt\n",
    "\n",
    "count, bins, ignored = plt.hist(sample, 30, normed = True, color = 'b')\n",
    "plt.plot(bins, \n",
    "             1/(sigma * np.sqrt(2*np.pi)) *\n",
    "             np.exp( - (bins - mu)**2 / (2 * sigma**2)),\n",
    "             linewidth = 2, color = 'r')\n",
    "\n",
    "plt.show()"
   ]
  },
  {
   "cell_type": "code",
   "execution_count": 80,
   "metadata": {
    "collapsed": false
   },
   "outputs": [
    {
     "data": {
      "text/plain": [
       "array([  1.39025216e+00,   7.01447048e-01,   1.06223095e+00,\n",
       "        -1.33258949e+00,   2.21487651e-01,   6.65502435e-01,\n",
       "         1.82382196e+00,   1.33412745e+00,  -6.39093806e-01,\n",
       "         1.67690385e+00,   3.55188074e-01,   1.73108451e+00,\n",
       "         4.42474326e-01,   4.73911356e-01,   2.38588902e+00,\n",
       "         2.95007740e-01,   4.70478670e-01,   6.11913604e-03,\n",
       "         1.00576877e-01,   3.28943173e+00,   2.38596466e+00,\n",
       "         1.46922195e+00,   1.10469785e+00,   1.67983958e-02,\n",
       "         5.89950057e-01,   1.12324184e-01,   9.86673535e-01,\n",
       "         1.41085455e+00,   1.05757145e+00,  -2.38930190e-01,\n",
       "         2.26554915e+00,   5.32448274e-01,  -7.97382726e-01,\n",
       "         1.28210160e-01,   1.45392664e+00,   1.38292746e+00,\n",
       "         4.74701676e-01,   1.45760623e+00,   2.53409735e+00,\n",
       "         1.45490447e+00,  -1.47065786e+00,  -1.33600723e-02,\n",
       "         6.36042272e-01,   1.87152505e+00,   9.79439331e-01,\n",
       "         9.18672104e-01,   1.48574590e+00,   2.96589517e-02,\n",
       "         1.89893875e+00,   2.70460785e+00,   1.86883776e+00,\n",
       "         2.92403471e+00,   9.04477044e-01,   1.05194531e-01,\n",
       "        -5.89826971e-01,   1.80491481e+00,   1.62103530e+00,\n",
       "         1.99613640e+00,   2.16753658e+00,   9.96003661e-01,\n",
       "         2.10066225e+00,   7.99668591e-01,  -5.62962742e-01,\n",
       "         1.32431625e+00,   5.68681470e-01,   6.01175567e-01,\n",
       "         1.06035091e+00,   1.77258155e+00,   7.07633831e-01,\n",
       "         9.33780988e-01,   4.99355102e-02,   1.32480994e+00,\n",
       "         1.30187569e+00,  -1.19036683e-01,   4.98589947e-01,\n",
       "         1.76614367e+00,   8.83267594e-01,   2.49817871e+00,\n",
       "         3.17117476e-01,  -2.51338483e-01,   1.24010811e+00,\n",
       "        -2.00707592e-01,   8.45094924e-01,   1.42816380e+00,\n",
       "        -8.16421634e-01,  -6.07128575e-01,  -5.45512698e-01,\n",
       "         1.27544901e+00,  -1.24814177e-01,   4.31314422e-01,\n",
       "         1.09482319e+00,   1.03741023e+00,  -9.78539942e-02,\n",
       "         1.76523986e+00,   1.09779147e+00,   2.15462391e+00,\n",
       "         1.39388931e+00,   8.79707417e-01,  -2.56244687e-02,\n",
       "         6.70773483e-01,   1.13799735e+00,   2.37541682e+00,\n",
       "         1.71981284e+00,   1.09699782e-01,  -5.80898713e-02,\n",
       "         3.15102694e+00,   1.29243670e-01,  -8.81333857e-01,\n",
       "         5.24278120e-01,  -4.18391459e-01,  -1.51727462e-01,\n",
       "         4.79738368e-01,  -4.77813504e-01,  -9.13077445e-01,\n",
       "         7.43552055e-02,   2.22403800e+00,   7.86710464e-01,\n",
       "         7.19509698e-01,   2.61458104e+00,  -7.51887154e-01,\n",
       "         6.38164786e-01,  -4.45148218e-01,   1.75972649e+00,\n",
       "         1.62842851e-03,   4.99047088e-01,   2.03497907e+00,\n",
       "         1.47179606e+00,   8.18471595e-01,   2.42452191e+00,\n",
       "         1.88279929e+00,   1.57638236e+00,   2.18808039e+00,\n",
       "        -8.73644008e-01,   1.08152827e+00,   1.22920320e+00,\n",
       "         8.57945923e-01,   9.56086130e-01,   7.81006060e-01,\n",
       "         1.15904495e-01,  -1.07878523e+00,   1.81805640e+00,\n",
       "         2.34748322e+00,   2.02564628e+00,   8.48841669e-01,\n",
       "         2.06104809e+00,   6.01110214e-01,   1.57922657e+00,\n",
       "         5.46359314e-01,   1.31991082e+00,   1.41007201e+00,\n",
       "         7.99183657e-01,   4.21147971e-01,   1.75045226e+00,\n",
       "         1.61231466e+00,  -3.65165951e-01,   5.60158679e-02,\n",
       "        -4.60942892e-01,   8.23502268e-01,   1.98119105e+00,\n",
       "         1.46243453e+00,   4.35588763e-02,   2.01262137e+00,\n",
       "        -5.94782569e-01,   1.41976707e-01,   1.37287766e+00,\n",
       "         3.61922155e-01,  -9.32967276e-01,   1.41255452e+00,\n",
       "         4.19596018e-01,  -8.51566524e-01,   1.47702488e+00,\n",
       "        -4.11860995e-01,   7.06963760e-01,   9.94363436e-01,\n",
       "         9.09579998e-01,   1.62304234e-01,   2.98510315e+00,\n",
       "         2.26163166e+00,   5.88801168e-01,   1.15123630e+00,\n",
       "         6.96120132e-01,   1.26173029e+00,  -3.73477521e-01,\n",
       "         4.56467330e-01,  -3.02458477e-01,   9.94844393e-01,\n",
       "         5.24548871e-01,  -8.48582069e-01,   6.48855240e-01,\n",
       "        -4.43670308e-01,  -9.72518333e-02,   1.56137731e+00,\n",
       "         2.60697871e+00,   1.10787104e+00,   1.20778106e+00,\n",
       "        -7.72444269e-01,   1.15891979e+00,   2.11147187e+00,\n",
       "         2.10033658e+00,   3.93268190e-01,   6.82514644e-01,\n",
       "         1.82302969e+00,   3.12485656e+00,   5.38254157e-01,\n",
       "         2.66305743e+00,   9.13526412e-01,  -8.74140459e-02,\n",
       "        -3.82189811e-01,  -1.71206458e-02,  -4.47201786e-01,\n",
       "         1.26443445e+00,   5.15735146e-02,  -7.81999159e-01,\n",
       "         1.22898090e+00,   2.05886382e+00,   4.94950075e-01,\n",
       "        -1.26475571e+00,   9.83533068e-01,  -1.26124062e+00,\n",
       "         1.08989067e+00,   1.19300411e+00,  -3.78671932e-01,\n",
       "        -8.29517986e-01,   5.59411816e-01,   8.76266076e-01,\n",
       "        -7.31919622e-01,   2.55985130e+00,   2.00801129e+00,\n",
       "        -5.84176630e-01,   1.80341584e+00,   1.42508850e+00,\n",
       "         1.17999979e+00,  -3.01887449e-01,   1.11369839e+00,\n",
       "         2.18160205e+00,  -7.25631697e-02,   2.57305498e-01,\n",
       "         3.76071716e-01,   1.88752617e+00,   1.95080276e+00,\n",
       "        -4.42946866e-02,   1.40275248e+00,   1.76189661e+00,\n",
       "         2.79331029e+00,   1.87491453e+00,   1.01733489e-01,\n",
       "         1.74275853e+00,   1.85682172e+00,   9.49770790e-02,\n",
       "         1.01881459e+00,   1.36386817e+00,   6.84705714e-01,\n",
       "         1.49842750e+00,   3.51278042e-01,   1.09171748e+00,\n",
       "         1.10771037e+00,   1.40025692e+00,  -4.79993431e-03,\n",
       "        -8.59321312e-01,   1.75241634e+00,   1.01299519e+00,\n",
       "         2.31320237e+00,  -3.87100108e-01,   9.06243919e-01,\n",
       "         1.86579300e-01,   5.02292685e-01,   2.36876372e+00,\n",
       "         1.66500816e-01,   1.73962404e+00,   6.90160227e-01,\n",
       "        -3.37793976e-01,   1.48286002e-01,   2.70787306e+00,\n",
       "         2.18666772e+00,   1.28867619e+00,   5.87456277e-01,\n",
       "         4.98066381e-01,  -5.13691699e-01,   1.86577085e+00,\n",
       "         3.28692960e-01,   7.27408287e-02,   2.34095071e+00,\n",
       "         1.07833369e+00,   1.79637028e+00,   8.60701536e-01,\n",
       "        -4.75639403e-01,   2.16037188e+00,  -2.14449033e-01,\n",
       "         2.42372479e+00,   1.29238789e-01,   1.24060198e+00,\n",
       "         1.33753151e+00,   5.50905971e-01,   4.58733083e-01,\n",
       "         1.46990513e+00,   2.17192682e+00,   5.94636818e-01,\n",
       "        -2.19472734e-01,  -1.16577192e+00,   2.20059081e+00,\n",
       "         2.95546091e-01,   8.73300299e-01,   1.34835411e+00,\n",
       "         2.36304096e+00,   1.70982259e+00,   2.75022886e+00,\n",
       "         1.42578401e+00,  -4.31197892e-01,  -5.12972531e-02,\n",
       "        -8.71132821e-01,   1.15949428e+00,   4.60214398e-01,\n",
       "         9.94607886e-01,   7.90234219e-01,   1.04630311e+00,\n",
       "         1.12164704e+00,   1.39173674e+00,   9.28423845e-01,\n",
       "         8.49358233e-01,   1.25690483e+00,   1.00053759e+00,\n",
       "        -4.65844713e-01,   8.87144042e-01,   2.01997229e-01,\n",
       "         1.08197043e+00,   1.23575143e+00,   1.56693510e+00,\n",
       "        -5.53492273e-02,  -1.45538255e+00,   1.82536860e-01,\n",
       "        -1.57861214e-02,   1.44219188e+00,   1.01709828e+00,\n",
       "         3.88908504e-01,  -9.90096776e-01,  -4.28704488e-01,\n",
       "        -1.70682054e-01,  -8.20046486e-01,   3.98828704e-01,\n",
       "         2.81319997e-03,   5.18329443e-01,   1.35206327e+00,\n",
       "         1.05437455e+00,   1.50198100e+00,   1.70276693e+00,\n",
       "        -6.40648954e-01,   9.47253790e-01,   8.98731060e-01,\n",
       "         3.95898081e-01,   2.43475367e-01,  -9.43801536e-01,\n",
       "         5.61273410e-01,   1.45464098e+00,   9.22894012e-01,\n",
       "         5.48839135e-01,   9.96821955e-02,  -3.33072844e-01,\n",
       "         5.14402851e-01,   9.13269456e-02,   3.21543308e-01,\n",
       "         7.29585558e-01,   1.08752809e+00,   1.02739261e+00,\n",
       "         7.05980063e-01,   1.33957664e-01,   1.12398121e+00,\n",
       "        -5.30806803e-01,   5.15916647e-01,   2.54327262e-01,\n",
       "         1.45225427e+00,   2.03679638e+00,   1.83399532e+00,\n",
       "         2.74551679e-01,   1.69962179e+00,   1.08751796e+00,\n",
       "         3.06160144e-01,  -8.70419017e-01,  -4.69262852e-01,\n",
       "        -7.71525519e-01,   8.28357570e-01,   1.11902274e+00,\n",
       "         1.37935157e+00,   7.41621835e-01,   7.32019994e-01,\n",
       "         1.15437270e+00,  -3.83330712e-01,   1.09282906e+00,\n",
       "         1.26382173e+00,  -4.52142457e-01,   7.02523755e-01,\n",
       "        -2.47817790e-01,   1.69626408e+00,   9.54441876e-02,\n",
       "         1.99422786e+00,   1.08100480e+00,   2.16892353e-01,\n",
       "         2.10819443e+00,   3.06185456e+00,   1.21159593e+00,\n",
       "         4.30440225e-01,   5.40730316e-01,   1.16781417e+00,\n",
       "         1.36858851e-01,   1.04159007e+00,   2.55756338e+00,\n",
       "         3.54606801e-01,  -2.50674002e-01,   1.03054542e+00,\n",
       "         6.22985809e-01,   9.06762792e-01,  -6.10152926e-01,\n",
       "        -1.20566283e+00,   5.66283351e-01,   4.97549299e-02,\n",
       "         1.11543509e+00,   1.03247722e+00,   2.60548877e+00,\n",
       "         5.58788989e-01,   1.87728290e+00,  -6.12518919e-01,\n",
       "        -6.69369653e-02,   1.55179013e+00,   2.75718417e+00,\n",
       "         1.18838791e+00,   6.69402683e-01,   1.61942380e+00,\n",
       "         1.19433873e+00,   4.14803250e-01,   5.97213589e-02,\n",
       "         4.30740900e-01,   1.64686582e+00,   4.23554701e-01,\n",
       "         1.82177021e+00,   2.43715115e+00,   1.32464210e+00,\n",
       "         6.81496117e-01,   1.30887055e+00,   1.67670440e-01,\n",
       "        -7.83450992e-02,   1.06071366e+00,   1.39498471e+00,\n",
       "        -1.67500170e-01,   7.91139968e-01,   6.96608523e-01,\n",
       "         1.18088385e+00,   1.25128460e-01,   1.18047571e-01,\n",
       "         4.85354179e-02,   2.44503561e-01,  -3.03032744e-01,\n",
       "         6.75927456e-01,   2.37625783e+00,   1.60577054e+00,\n",
       "         2.47838236e-01,   2.78768751e-01,   2.22191101e+00,\n",
       "        -1.67676382e+00,  -3.05317853e-01,  -2.80447838e-01,\n",
       "         1.08261395e+00,  -5.91740871e-01,   1.88401071e+00,\n",
       "         1.30208566e+00,   1.73131963e+00,   1.38344361e+00,\n",
       "        -1.69383519e-01,   1.64911367e+00,   7.55913345e-01,\n",
       "         6.29241951e-01,   4.99463612e-01,  -2.52938545e-01,\n",
       "         1.06047259e+00,   7.29508056e-01,   1.51099910e+00,\n",
       "         1.41751523e+00,   6.08027425e-01,   3.39643731e-01,\n",
       "         3.30291827e-01,  -1.63147243e+00,   1.19572544e+00,\n",
       "         1.11932943e+00,   3.10098773e+00,   7.84219494e-01,\n",
       "         6.41620281e-01,  -7.04789503e-01,  -2.98363482e-01,\n",
       "         2.25075088e-01,   1.12842089e-01,   1.61467265e+00,\n",
       "         1.04813054e+00,   1.10131095e+00,   3.20981050e-01,\n",
       "         1.97524900e+00,   2.24932680e+00,   5.24382978e-01,\n",
       "         2.83520177e+00,  -5.37620969e-01,   3.19164459e+00,\n",
       "        -3.80658229e-01,   2.62645514e+00,   8.91709448e-01,\n",
       "        -7.01457338e-01,   5.06337684e-01,   2.83489340e+00,\n",
       "         1.06114992e+00,   1.35149893e+00,   9.63756752e-01,\n",
       "         1.18238395e+00,   2.35600718e+00,   3.09955159e-01,\n",
       "         4.28247164e-01,   1.33406134e+00,   2.21286776e-01,\n",
       "         1.45526872e+00,   9.67960666e-01,   3.07568868e-01,\n",
       "        -6.14618217e-02,   1.08261621e+00,  -1.87175398e+00,\n",
       "        -3.39001428e-01,   3.11952584e+00,   1.27490082e+00,\n",
       "         9.40596072e-01,   2.75642253e-01,  -9.11833489e-01,\n",
       "        -1.37193769e-01,   1.54428424e+00,   5.44334277e-01,\n",
       "        -5.63248370e-01,  -8.61053296e-01,   2.17526262e+00,\n",
       "         1.62586288e+00,   1.00968263e+00,   9.06292196e-02,\n",
       "         7.99444289e-01,   1.06642864e+00,   2.39975260e+00,\n",
       "         3.91521558e-02,   2.30877995e+00,  -1.33336618e+00,\n",
       "         1.10468263e+00,   2.36822934e+00,   1.46404396e+00,\n",
       "         2.49150321e+00,  -3.93040462e-01,   2.24728451e-01,\n",
       "         1.42428267e-01,  -8.77727909e-01,   1.52776938e+00,\n",
       "         7.55645595e-01,  -4.45092355e-01,   2.53066319e+00,\n",
       "         8.86004815e-01,   3.79598327e-01,   1.04008953e+00,\n",
       "         1.49868068e+00,   1.48966934e+00,   1.40969500e+00,\n",
       "        -8.49631810e-01,  -2.12565148e-01,   6.16702314e-01,\n",
       "         1.61509316e+00,   1.71475636e+00,   8.87980150e-01,\n",
       "         6.88987054e-01,   1.82078585e+00,  -7.51349558e-01,\n",
       "        -1.19446199e-01,   2.66504781e-01,   1.35355404e-03,\n",
       "        -6.09216986e-01,   7.49314172e-01,  -9.27286601e-01,\n",
       "         8.97260917e-01,   1.88066896e+00,   1.61897990e+00,\n",
       "         8.69176403e-01,   1.63558124e+00,   1.17726447e-01,\n",
       "         1.63221999e+00,   2.36130542e+00,  -1.34063041e-01,\n",
       "         2.24064887e+00,  -1.05564253e+00,  -5.88208468e-01,\n",
       "        -2.53671467e-01,   2.78840049e+00,   2.49509701e-01,\n",
       "         2.07681428e+00,   7.70691282e-01,  -9.71929002e-02,\n",
       "         1.69990893e+00,  -2.78957677e-01,   9.36820560e-01,\n",
       "         9.58597440e-01,  -7.55864691e-01,   1.03391049e+00,\n",
       "         7.95084133e-01,   6.19945622e-01,   3.11085827e+00,\n",
       "         5.52364056e-01,   1.55916257e+00,   2.67656815e-01,\n",
       "        -1.10259519e+00,   4.85744283e-01,   1.04009182e+00,\n",
       "         1.42916722e+00,   2.59488532e+00,   3.17050418e+00,\n",
       "         2.58597111e-01,  -3.50467716e-01,  -3.33789608e-01,\n",
       "         1.86643123e+00,   2.03684660e+00,   5.15954112e-01,\n",
       "         1.70251199e-01,   2.78839241e+00,   1.77540872e-01,\n",
       "         4.17458132e-01,  -1.00976699e-01,   1.11616111e+00,\n",
       "        -6.56539438e-02,  -2.82306922e-01,   2.98394380e-01,\n",
       "         8.23699467e-02,   4.93115330e-01,   4.41151464e-01,\n",
       "         4.85524776e-01,   9.92910048e-01,   1.85458204e+00,\n",
       "         2.04601909e+00,   1.04489465e+00,   2.06882757e+00,\n",
       "        -1.15792436e+00,   1.56266117e+00,   7.51046796e-01,\n",
       "         1.09493192e+00,   3.19208730e-01,  -1.40122345e+00,\n",
       "         8.10474777e-01,   1.36864440e+00,   2.38478471e+00,\n",
       "         8.96229448e-01,   7.59748816e-01,   1.41710952e+00,\n",
       "        -3.72144717e-01,   4.75139458e-01,   5.41231067e-01,\n",
       "         1.46470363e+00,   7.23166755e-02,   9.22466934e-01,\n",
       "         9.42246291e-01,   1.07343838e+00,   1.40920300e+00,\n",
       "         1.01764369e+00,   1.01831643e+00,   1.63497145e+00,\n",
       "        -3.92704449e-01,   7.51515274e-01,   7.21762558e-01,\n",
       "         2.52186345e+00,   3.47766365e-01,   1.13233067e-01,\n",
       "        -1.02362532e+00,  -4.53708107e-01,  -1.01922412e+00,\n",
       "         7.18325817e-01,  -5.40620235e-02,   1.62908568e+00,\n",
       "         6.38690691e-01,   1.20689070e+00,   1.14340120e+00,\n",
       "         1.77196565e+00,   4.30383953e-01,  -6.90243795e-01,\n",
       "         1.19117427e-01,   1.80346443e+00,  -1.23283462e+00,\n",
       "         4.79366528e-01,   2.16565599e-01,  -2.70999221e+00,\n",
       "         5.19111138e-01,  -6.81651155e-01,  -1.10393243e+00,\n",
       "         9.01090489e-01,   1.12810883e+00,   3.99877702e-01,\n",
       "         1.42143482e+00,  -3.31169105e-01,  -4.74070346e-01,\n",
       "        -8.81457401e-01,   2.16984598e+00,   9.01453300e-01,\n",
       "        -1.20399442e+00,  -3.25974692e-01,   1.01386908e+00,\n",
       "         2.23553880e+00,   4.57602196e-01,  -6.36643492e-01,\n",
       "         1.86484421e+00,   1.60569534e+00,  -5.25967373e-02,\n",
       "         1.16703839e+00,  -4.42243769e-01,   2.23270861e-01,\n",
       "         2.71982927e-01,   1.16800045e+00,  -8.71726236e-01,\n",
       "         6.29876280e-01,   6.26193926e-01,   1.83119253e+00,\n",
       "         1.35039404e+00,   1.11742304e+00,   8.24091954e-01,\n",
       "         1.30400788e-01,   1.79040325e-01,   6.16649637e-01,\n",
       "         4.37126235e-01,  -6.29026911e-01,  -7.26245465e-01,\n",
       "         2.18940670e+00,   1.53347490e+00,   1.50260159e+00,\n",
       "         1.55974139e+00,   4.56384613e-01,   5.24575270e-01,\n",
       "         2.06941964e+00,  -7.83249631e-01,   2.48950163e-01,\n",
       "         2.68589302e+00,   2.01220531e+00,   7.17999209e-01,\n",
       "         1.17473936e+00,   1.26616162e-01,   8.14749975e-01,\n",
       "         9.16197700e-01,  -1.54567971e+00,   2.31607692e+00,\n",
       "         2.02994186e+00,  -3.93131193e-02,  -9.02078341e-01,\n",
       "         2.82744450e-01,   1.88105066e+00,   1.14675694e+00,\n",
       "         1.03283131e+00,   1.40389127e+00,   1.36339489e+00,\n",
       "        -8.81707500e-01,   1.69895749e+00,   8.51476911e-01,\n",
       "        -5.12000324e-01,  -5.59631383e-01,  -8.83363626e-01,\n",
       "         2.43078595e+00,   1.39979807e+00,   2.53126044e-01,\n",
       "        -1.37462545e+00,  -9.95265591e-02,  -5.88643676e-01,\n",
       "         1.19186669e+00,   3.78497024e-01,   1.89659140e+00,\n",
       "         1.66389545e+00,   5.22345386e-02,   1.71481689e+00,\n",
       "         1.49933104e+00,   2.06108421e+00,   7.38045952e-01,\n",
       "         1.46434675e+00,   1.26888828e+00,   1.08288582e+00,\n",
       "         1.19880108e+00,   1.39872112e+00,   6.61782933e-01,\n",
       "        -3.78639702e-01,   2.79141688e-01,  -1.37567798e-01,\n",
       "         2.40171766e-01,  -1.16636398e-01,   4.07657437e-01,\n",
       "         1.85310988e-02,   1.96804370e+00,  -7.57752498e-01,\n",
       "        -1.44404583e-01,   3.92386105e-03,   1.57339945e+00,\n",
       "         2.09869411e+00,   2.30271321e-01,   1.80002684e-01,\n",
       "         1.10822162e+00,   1.16940121e+00,   6.08820065e-02,\n",
       "         1.08935114e+00,   1.01946691e+00,   6.32911313e-01,\n",
       "        -5.08097176e-01,  -7.14120727e-03,   1.99494122e+00,\n",
       "        -1.80512682e-01,   1.69597209e+00,   7.12260809e-01,\n",
       "         1.56608607e+00,   1.79824992e-01,   2.08386230e+00,\n",
       "        -4.15883426e-01,   2.46208652e-01,   9.51844344e-01,\n",
       "         1.10103004e+00,   8.24936346e-01,  -1.44263065e-01,\n",
       "         2.17948442e+00,  -3.76970606e-02,  -6.64366573e-01,\n",
       "         5.66449692e-01,  -6.82114384e-01,   3.45087970e-01,\n",
       "         1.67401699e+00,  -3.78601106e-01,  -1.13798520e+00,\n",
       "         1.98067174e-01,   1.27089270e+00,  -8.65576973e-01,\n",
       "        -4.73298878e-02,   5.62941311e-01,   1.67182905e-01,\n",
       "         1.36907889e+00,   1.27918834e+00,  -2.72012586e-01,\n",
       "         3.18373589e-01,   8.76109817e-01,  -5.12356338e-02,\n",
       "        -1.30701360e-01,   1.44044147e+00,   5.62001514e-01,\n",
       "         2.05827901e+00,  -1.59209805e+00,  -2.96895497e-01,\n",
       "         1.30552950e+00,   1.07180285e+00,   1.52306021e+00,\n",
       "         1.59679038e+00,   6.36499442e-02,   3.52586198e-01,\n",
       "         2.17149613e+00,   1.37877284e+00,   2.93565684e-02,\n",
       "         8.86378057e-02,   2.52930938e+00,   9.49288901e-01,\n",
       "        -6.39974385e-01,   5.52704835e-02,   1.12349443e+00,\n",
       "         1.16462750e-01,   7.18530627e-01,   1.07571886e+00,\n",
       "         6.16178393e-01,   2.24262196e+00,   2.27927531e+00,\n",
       "         5.55131053e-01,   1.07928789e+00,   2.12741523e-01,\n",
       "         2.53822629e-01,   9.70377972e-01,   1.15040720e+00,\n",
       "        -9.11726064e-01,   1.49610631e-01,   1.05991733e+00,\n",
       "        -3.43543871e-01,   8.38134838e-01,   6.44389784e-01,\n",
       "         1.55396132e+00,   6.42811251e-01,  -5.31816855e-01,\n",
       "         9.56527646e-01,   8.99094113e-01,   2.20032570e+00,\n",
       "        -3.89122760e-01,   1.94231633e+00,   6.73122421e-01,\n",
       "         1.23681672e+00,   3.85759420e-01,   2.91890876e+00,\n",
       "         1.06411868e+00,   1.76656578e+00,  -7.19728832e-01,\n",
       "         9.91079962e-01,   5.36606824e-01,   1.80669891e-01,\n",
       "         1.30033346e+00,  -1.36423636e+00,   1.07896013e+00,\n",
       "         2.07543451e+00,   2.36127379e+00,   1.90460321e+00,\n",
       "         1.36492855e-01,   9.18662584e-02,   1.78823990e+00,\n",
       "         4.15986464e-02,   1.10653729e+00,   4.65649890e-01,\n",
       "         9.65973063e-01,  -1.02860060e+00,   2.61659492e-02,\n",
       "         1.04509885e+00,  -1.51509531e-01,   2.87732444e+00,\n",
       "        -2.39354239e-01,   3.12677092e-01,  -1.23303390e+00,\n",
       "        -1.87481936e-01,   1.37927332e+00,  -5.66595947e-01,\n",
       "        -2.12605629e-01,   1.78384760e+00,   4.73129255e-01,\n",
       "         3.50942541e-01,   1.50348360e+00,   1.89725117e+00,\n",
       "         3.39480737e-01,  -4.52434374e-01,   1.54671522e-01,\n",
       "        -3.82765922e-01,  -9.78731417e-01,   1.49866148e+00,\n",
       "        -6.67993200e-01,   7.54782076e-02,   1.15942352e+00,\n",
       "         1.90829812e+00,   1.87335559e+00,  -2.84166950e-01,\n",
       "         1.13496535e+00,   5.71773907e-01,   1.23637301e+00,\n",
       "         4.60646293e-01,  -9.80967876e-01,   2.53857826e+00,\n",
       "        -1.82413425e-01,   4.46413949e-01,   1.39687815e+00,\n",
       "        -6.92549640e-01,   1.25301298e+00,  -7.62663595e-02,\n",
       "        -9.84133314e-01,   6.82812104e-02,   4.54684950e-01,\n",
       "         1.65726253e+00,  -1.42959646e+00,   5.70286621e-01,\n",
       "         1.80921558e-01,  -7.24352530e-01,  -1.28939614e-01,\n",
       "        -8.23100507e-01,   3.79747320e-01,   4.14741378e-01,\n",
       "         1.95206197e+00,   6.57095516e-01,   1.52233418e-01,\n",
       "         9.49906771e-02,   9.42225867e-01,   9.95247554e-01,\n",
       "        -2.62769561e-01,  -8.71769497e-02,   1.29529173e+00,\n",
       "         1.16515021e+00,   1.38304787e+00,   1.06023940e+00,\n",
       "        -2.76604323e-01,   1.13646193e+00,   1.97320313e+00,\n",
       "        -3.45631395e-01,  -1.57999637e-01,   1.49199536e+00,\n",
       "        -4.62086650e-01,   1.66185962e+00,   8.34510328e-01,\n",
       "         1.17566267e+00,   8.66742014e-01,   1.78721995e+00,\n",
       "         1.73812122e+00,  -7.83239508e-01,   1.43498585e+00,\n",
       "         2.21148509e-01,   1.37666264e+00,  -2.03858203e+00,\n",
       "         1.59981985e+00,   7.09480913e-01,  -2.58101560e+00,\n",
       "         6.51835448e-01,   1.36656832e-01,   2.62710292e+00,\n",
       "        -2.70125016e-01,   7.47415447e-01,   2.82423923e+00,\n",
       "        -2.29445403e-01,   1.36498243e+00,   1.51107135e+00,\n",
       "         1.33078418e+00,  -2.85130574e-01,   1.42299841e+00,\n",
       "         2.21730301e-01])"
      ]
     },
     "execution_count": 80,
     "metadata": {},
     "output_type": "execute_result"
    }
   ],
   "source": [
    "#Given a mean of a normal distribution and size find the standard deviation\n",
    "distribution = np.random.normal(0.75, size =1000)\n",
    "\n",
    "np.std(distribution)"
   ]
  },
  {
   "cell_type": "markdown",
   "metadata": {},
   "source": [
    "# Dict Hash Table"
   ]
  },
  {
   "cell_type": "code",
   "execution_count": 84,
   "metadata": {
    "collapsed": false
   },
   "outputs": [
    {
     "name": "stdout",
     "output_type": "stream",
     "text": [
      "alpha\n"
     ]
    },
    {
     "data": {
      "text/plain": [
       "'gamma'"
      ]
     },
     "execution_count": 84,
     "metadata": {},
     "output_type": "execute_result"
    }
   ],
   "source": [
    "dict = {}\n",
    "dict['a'] = 'alpha'\n",
    "dict['g'] = 'gamma'\n",
    "dict['o'] = 'omega'\n",
    "\n",
    "print (dict['a'])\n",
    "\n",
    "dict['a'] = [1, 2, 3] #replaces alpha with [1,2,3]\n",
    "\n",
    "dict.get('g')"
   ]
  },
  {
   "cell_type": "code",
   "execution_count": 85,
   "metadata": {
    "collapsed": false
   },
   "outputs": [
    {
     "name": "stdout",
     "output_type": "stream",
     "text": [
      "a\n",
      "g\n",
      "o\n"
     ]
    }
   ],
   "source": [
    "for key in dict: print(key)"
   ]
  },
  {
   "cell_type": "code",
   "execution_count": 86,
   "metadata": {
    "collapsed": false
   },
   "outputs": [
    {
     "name": "stdout",
     "output_type": "stream",
     "text": [
      "a\n",
      "g\n",
      "o\n"
     ]
    }
   ],
   "source": [
    "for key in dict.keys(): print (key)"
   ]
  },
  {
   "cell_type": "code",
   "execution_count": 87,
   "metadata": {
    "collapsed": false
   },
   "outputs": [
    {
     "name": "stdout",
     "output_type": "stream",
     "text": [
      "dict_keys(['a', 'g', 'o'])\n"
     ]
    }
   ],
   "source": [
    "print (dict.keys())"
   ]
  },
  {
   "cell_type": "code",
   "execution_count": 88,
   "metadata": {
    "collapsed": false
   },
   "outputs": [
    {
     "data": {
      "text/plain": [
       "dict_values([[1, 2, 3], 'gamma', 'omega'])"
      ]
     },
     "execution_count": 88,
     "metadata": {},
     "output_type": "execute_result"
    }
   ],
   "source": [
    "dict.values()"
   ]
  },
  {
   "cell_type": "code",
   "execution_count": 93,
   "metadata": {
    "collapsed": false
   },
   "outputs": [
    {
     "name": "stdout",
     "output_type": "stream",
     "text": [
      "a [1, 2, 3]\n",
      "g gamma\n",
      "o omega\n"
     ]
    }
   ],
   "source": [
    "# loop over the keys in sorted order, accessing each key/value\n",
    "for key in sorted(dict.keys()):\n",
    "        print (key, dict[key])"
   ]
  },
  {
   "cell_type": "code",
   "execution_count": 95,
   "metadata": {
    "collapsed": false
   },
   "outputs": [
    {
     "name": "stdout",
     "output_type": "stream",
     "text": [
      "dict_items([('a', [1, 2, 3]), ('g', 'gamma'), ('o', 'omega')])\n"
     ]
    }
   ],
   "source": [
    "print (dict.items())"
   ]
  },
  {
   "cell_type": "code",
   "execution_count": 97,
   "metadata": {
    "collapsed": false
   },
   "outputs": [
    {
     "name": "stdout",
     "output_type": "stream",
     "text": [
      "a -> [1, 2, 3]\n",
      "g -> gamma\n",
      "o -> omega\n"
     ]
    }
   ],
   "source": [
    "for k, v in dict.items(): print (k , '->', v)"
   ]
  },
  {
   "cell_type": "code",
   "execution_count": 99,
   "metadata": {
    "collapsed": false
   },
   "outputs": [
    {
     "data": {
      "text/plain": [
       "'I want 42 copies of garfield'"
      ]
     },
     "execution_count": 99,
     "metadata": {},
     "output_type": "execute_result"
    }
   ],
   "source": [
    "hash = {\n",
    "    'word': 'garfield',\n",
    "    'count': 42\n",
    "}\n",
    "s = 'I want {} copies of {}'.format(hash['count'], hash['word'])\n",
    "s"
   ]
  },
  {
   "cell_type": "code",
   "execution_count": 100,
   "metadata": {
    "collapsed": false
   },
   "outputs": [
    {
     "data": {
      "text/plain": [
       "{'count': 42}"
      ]
     },
     "execution_count": 100,
     "metadata": {},
     "output_type": "execute_result"
    }
   ],
   "source": [
    "del hash['word']\n",
    "hash"
   ]
  },
  {
   "cell_type": "markdown",
   "metadata": {},
   "source": [
    "# Files (Standard Python)"
   ]
  },
  {
   "cell_type": "code",
   "execution_count": 103,
   "metadata": {
    "collapsed": false
   },
   "outputs": [
    {
     "name": "stdout",
     "output_type": "stream",
     "text": [
      ",#summer,gold,silver,bronze,Total,#winter,gold.1,silver.1,bronze.1,Total.1,#games,gold.2,silver.2,bronze.2,Total.2\n",
      "\n",
      "Afghanistan,14,0,0,2,2,0,0,0,0,0,14,0,0,2,2\n",
      "\n",
      "Algeria,13,5,4,8,17,3,0,0,0,0,16,5,4,8,17\n",
      "\n",
      "Argentina,24,21,25,28,74,18,0,0,0,0,42,21,25,28,74\n",
      "\n",
      "Armenia,6,2,5,7,14,6,0,0,0,0,12,2,5,7,14\n",
      "\n",
      "Australasia,2,3,4,5,12,0,0,0,0,0,2,3,4,5,12\n",
      "\n",
      "Australia,26,147,163,187,497,18,5,3,4,12,44,152,166,191,509\n",
      "\n",
      "Austria,27,18,33,36,87,22,59,78,81,218,49,77,111,117,305\n",
      "\n",
      "Azerbaijan,6,7,11,25,43,5,0,0,0,0,11,7,11,25,43\n",
      "\n",
      "Bahamas,16,6,2,6,14,0,0,0,0,0,16,6,2,6,14\n",
      "\n",
      "Bahrain,9,1,1,1,3,0,0,0,0,0,9,1,1,1,3\n",
      "\n",
      "Barbados,12,0,0,1,1,0,0,0,0,0,12,0,0,1,1\n",
      "\n",
      "Belarus,6,12,27,38,77,6,6,4,5,15,12,18,31,43,92\n",
      "\n",
      "Belgium,26,40,53,55,148,20,1,1,3,5,46,41,54,58,153\n",
      "\n",
      "Bermuda,18,0,0,1,1,7,0,0,0,0,25,0,0,1,1\n",
      "\n",
      "Bohemia,3,0,1,3,4,0,0,0,0,0,3,0,1,3,4\n",
      "\n",
      "Botswana,10,0,1,0,1,0,0,0,0,0,10,0,1,0,1\n",
      "\n",
      "Brazil,22,30,36,63,129,7,0,0,0,0,29,30,36,63,129\n",
      "\n",
      "British West Indies,1,0,0,2,2,0,0,0,0,0,1,0,0,2,2\n",
      "\n",
      "Bulgaria,20,51,86,80,217,19,1,2,3,6,39,52,88,83,223\n",
      "\n",
      "Burundi,6,1,1,0,2,0,0,0,0,0,6,1,1,0,2\n",
      "\n",
      "Cameroon,14,3,1,1,5,1,0,0,0,0,15,3,1,1,5\n",
      "\n",
      "Canada,26,63,102,136,301,22,62,56,52,170,48,125,158,188,471\n",
      "\n",
      "Chile,23,2,7,4,13,16,0,0,0,0,39,2,7,4,13\n",
      "\n",
      "China,10,224,164,153,541,10,12,22,19,53,20,236,186,172,594\n",
      "\n",
      "Colombia,19,5,8,14,27,1,0,0,0,0,20,5,8,14,27\n",
      "\n",
      "Costa Rica,15,1,1,2,4,6,0,0,0,0,21,1,1,2,4\n",
      "\n",
      "C“te d'Ivoire,13,1,1,1,3,0,0,0,0,0,13,1,1,1,3\n",
      "\n",
      "Croatia,7,11,10,12,33,7,4,6,1,11,14,15,16,13,44\n",
      "\n",
      "Cuba,20,77,68,75,220,0,0,0,0,0,20,77,68,75,220\n",
      "\n",
      "Cyprus,10,0,1,0,1,10,0,0,0,0,20,0,1,0,1\n",
      "\n",
      "Czech Republic,6,15,17,24,56,6,7,9,8,24,12,22,26,32,80\n",
      "\n",
      "Czechoslovakia,16,49,49,45,143,16,2,8,15,25,32,51,57,60,168\n",
      "\n",
      "Denmark,27,45,74,75,194,13,0,1,0,1,40,45,75,75,195\n",
      "\n",
      "Djibouti,8,0,0,1,1,0,0,0,0,0,8,0,0,1,1\n",
      "\n",
      "Dominican Republic,14,3,2,2,7,0,0,0,0,0,14,3,2,2,7\n",
      "\n",
      "Ecuador,14,1,1,0,2,0,0,0,0,0,14,1,1,0,2\n",
      "\n",
      "Egypt,22,7,9,13,29,1,0,0,0,0,23,7,9,13,29\n",
      "\n",
      "Eritrea,5,0,0,1,1,0,0,0,0,0,5,0,0,1,1\n",
      "\n",
      "Estonia,12,9,9,16,34,9,4,2,1,7,21,13,11,17,41\n",
      "\n",
      "Ethiopia,13,22,10,21,53,2,0,0,0,0,15,22,10,21,53\n",
      "\n",
      "Fiji,14,1,0,0,1,3,0,0,0,0,17,1,0,0,1\n",
      "\n",
      "Finland,25,101,85,117,303,22,42,62,57,161,47,143,147,174,464\n",
      "\n",
      "France,28,212,241,262,715,22,31,31,47,109,50,243,272,309,824\n",
      "\n",
      "Gabon,10,0,1,0,1,0,0,0,0,0,10,0,1,0,1\n",
      "\n",
      "Georgia,6,8,7,17,32,6,0,0,0,0,12,8,7,17,32\n",
      "\n",
      "Germany,16,191,192,232,615,11,78,78,53,209,27,269,270,285,824\n",
      "\n",
      "United Team of Germany,3,28,54,36,118,3,8,6,5,19,6,36,60,41,137\n",
      "\n",
      "East Germany,5,153,129,127,409,6,39,36,35,110,11,192,165,162,519\n",
      "\n",
      "West Germany,5,56,67,81,204,6,11,15,13,39,11,67,82,94,243\n",
      "\n",
      "Ghana,14,0,1,3,4,1,0,0,0,0,15,0,1,3,4\n",
      "\n",
      "Great Britain,28,263,295,289,847,22,10,4,12,26,50,273,299,301,873\n",
      "\n",
      "Greece,28,33,43,40,116,18,0,0,0,0,46,33,43,40,116\n",
      "\n",
      "Grenada,9,1,1,0,2,0,0,0,0,0,9,1,1,0,2\n",
      "\n",
      "Guatemala,14,0,1,0,1,1,0,0,0,0,15,0,1,0,1\n",
      "\n",
      "Guyana,17,0,0,1,1,0,0,0,0,0,17,0,0,1,1\n",
      "\n",
      "Haiti,15,0,1,1,2,0,0,0,0,0,15,0,1,1,2\n",
      "\n",
      "Hong Kong,16,1,1,1,3,4,0,0,0,0,20,1,1,1,3\n",
      "\n",
      "Hungary,26,175,147,169,491,22,0,2,4,6,48,175,149,173,497\n",
      "\n",
      "Iceland,20,0,2,2,4,17,0,0,0,0,37,0,2,2,4\n",
      "\n",
      "India,24,9,7,12,28,9,0,0,0,0,33,9,7,12,28\n",
      "\n",
      "Indonesia,15,7,12,11,30,0,0,0,0,0,15,7,12,11,30\n",
      "\n",
      "Iran,16,18,21,29,68,10,0,0,0,0,26,18,21,29,68\n",
      "\n",
      "Iraq,14,0,0,1,1,0,0,0,0,0,14,0,0,1,1\n",
      "\n",
      "Ireland,21,9,10,12,31,6,0,0,0,0,27,9,10,12,31\n",
      "\n",
      "Israel,16,1,1,7,9,6,0,0,0,0,22,1,1,7,9\n",
      "\n",
      "Italy,27,206,178,193,577,22,37,34,43,114,49,243,212,236,691\n",
      "\n",
      "Jamaica,17,22,33,22,77,7,0,0,0,0,24,22,33,22,77\n",
      "\n",
      "Japan,22,142,135,162,439,20,10,17,18,45,42,152,152,180,484\n",
      "\n",
      "Jordan,10,1,0,0,1,0,0,0,0,0,10,1,0,0,1\n",
      "\n",
      "Kazakhstan,6,14,21,25,60,6,1,3,3,7,12,15,24,28,67\n",
      "\n",
      "Kenya,14,31,38,31,100,3,0,0,0,0,17,31,38,31,100\n",
      "\n",
      "Kosovo,1,1,0,0,1,0,0,0,0,0,1,1,0,0,1\n",
      "\n",
      "North Korea,10,16,15,23,54,8,0,1,1,2,18,16,16,24,56\n",
      "\n",
      "South Korea,17,90,85,89,264,17,26,17,10,53,34,116,102,99,317\n",
      "\n",
      "Kuwait,12,0,0,2,2,0,0,0,0,0,12,0,0,2,2\n",
      "\n",
      "Kyrgyzstan,6,0,1,2,3,6,0,0,0,0,12,0,1,2,3\n",
      "\n",
      "Latvia,11,3,11,5,19,10,0,4,3,7,21,3,15,8,26\n",
      "\n",
      "Lebanon,17,0,2,2,4,16,0,0,0,0,33,0,2,2,4\n",
      "\n",
      "Liechtenstein,17,0,0,0,0,18,2,2,5,9,35,2,2,5,9\n",
      "\n",
      "Lithuania,9,6,7,12,25,8,0,0,0,0,17,6,7,12,25\n",
      "\n",
      "Luxembourg,23,1,1,0,2,8,0,2,0,2,31,1,3,0,4\n",
      "\n",
      "Macedonia,6,0,0,1,1,5,0,0,0,0,11,0,0,1,1\n",
      "\n",
      "Malaysia,13,0,7,4,11,0,0,0,0,0,13,0,7,4,11\n",
      "\n",
      "Mauritius,9,0,0,1,1,0,0,0,0,0,9,0,0,1,1\n",
      "\n",
      "Mexico,23,13,24,30,67,8,0,0,0,0,31,13,24,30,67\n",
      "\n",
      "Moldova,6,0,2,4,6,6,0,0,0,0,12,0,2,4,6\n",
      "\n",
      "Mongolia,13,2,10,14,26,13,0,0,0,0,26,2,10,14,26\n",
      "\n",
      "Montenegro,3,0,1,0,1,2,0,0,0,0,5,0,1,0,1\n",
      "\n",
      "Morocco,14,6,5,12,23,6,0,0,0,0,20,6,5,12,23\n",
      "\n",
      "Mozambique,10,1,0,1,2,0,0,0,0,0,10,1,0,1,2\n",
      "\n",
      "Namibia,7,0,4,0,4,0,0,0,0,0,7,0,4,0,4\n",
      "\n",
      "Netherlands,26,85,92,108,285,20,37,38,35,110,46,122,130,143,395\n",
      "\n",
      "Netherlands Antilles,13,0,1,0,1,2,0,0,0,0,15,0,1,0,1\n",
      "\n",
      "New Zealand,23,46,27,44,117,15,0,1,0,1,38,46,28,44,118\n",
      "\n",
      "Niger,12,0,1,1,2,0,0,0,0,0,12,0,1,1,2\n",
      "\n",
      "Nigeria,16,3,9,12,24,0,0,0,0,0,16,3,9,12,24\n",
      "\n",
      "Norway,25,56,49,47,152,22,118,111,100,329,47,174,160,147,481\n",
      "\n",
      "Pakistan,17,3,3,4,10,2,0,0,0,0,19,3,3,4,10\n",
      "\n",
      "Panama,17,1,0,2,3,0,0,0,0,0,17,1,0,2,3\n",
      "\n",
      "Paraguay,12,0,1,0,1,1,0,0,0,0,13,0,1,0,1\n",
      "\n",
      "Peru,18,1,3,0,4,2,0,0,0,0,20,1,3,0,4\n",
      "\n",
      "Philippines,21,0,3,7,10,4,0,0,0,0,25,0,3,7,10\n",
      "\n",
      "Poland,21,66,85,131,282,22,6,7,7,20,43,72,92,138,302\n",
      "\n",
      "Portugal,24,4,8,12,24,7,0,0,0,0,31,4,8,12,24\n",
      "\n",
      "Puerto Rico,18,1,2,6,9,6,0,0,0,0,24,1,2,6,9\n",
      "\n",
      "Qatar,9,0,1,4,5,0,0,0,0,0,9,0,1,4,5\n",
      "\n",
      "Romania,21,89,95,122,306,20,0,0,1,1,41,89,95,123,307\n",
      "\n",
      "Russia,6,147,125,153,425,6,49,40,35,124,12,196,165,188,549\n",
      "\n",
      "Russian Empire,3,1,4,3,8,0,0,0,0,0,3,1,4,3,8\n",
      "\n",
      "Soviet Union,9,395,319,296,\"1,010\",9,78,57,59,194,18,473,376,355,\"1,204\"\n",
      "\n",
      "Unified Team,1,45,38,29,112,1,9,6,8,23,2,54,44,37,135\n",
      "\n",
      "Saudi Arabia,11,0,1,2,3,0,0,0,0,0,11,0,1,2,3\n",
      "\n",
      "Samoa,9,0,1,0,1,0,0,0,0,0,9,0,1,0,1\n",
      "\n",
      "Senegal,14,0,1,0,1,5,0,0,0,0,19,0,1,0,1\n",
      "\n",
      "Serbia,4,3,6,6,15,2,0,0,0,0,6,3,6,6,15\n",
      "\n",
      "Serbia and Montenegro,3,2,4,3,9,3,0,0,0,0,6,2,4,3,9\n",
      "\n",
      "Singapore,16,1,2,2,5,0,0,0,0,0,16,1,2,2,5\n",
      "\n",
      "Slovakia,6,9,11,8,28,6,2,2,1,5,12,11,13,9,33\n",
      "\n",
      "Slovenia,7,5,8,10,23,7,2,4,9,15,14,7,12,19,38\n",
      "\n",
      "South Africa,19,25,32,29,86,6,0,0,0,0,25,25,32,29,86\n",
      "\n",
      "Spain,23,45,63,41,149,19,1,0,1,2,42,46,63,42,151\n",
      "\n",
      "Sri Lanka,17,0,2,0,2,0,0,0,0,0,17,0,2,0,2\n",
      "\n",
      "Sudan,12,0,1,0,1,0,0,0,0,0,12,0,1,0,1\n",
      "\n",
      "Suriname,12,1,0,1,2,0,0,0,0,0,12,1,0,1,2\n",
      "\n",
      "Sweden,27,145,170,179,494,22,50,40,54,144,49,195,210,233,638\n",
      "\n",
      "Switzerland,28,50,75,67,192,22,50,40,48,138,50,100,115,115,330\n",
      "\n",
      "Syria,13,1,1,1,3,0,0,0,0,0,13,1,1,1,3\n",
      "\n",
      "Chinese Taipei,14,5,7,12,24,11,0,0,0,0,25,5,7,12,24\n",
      "\n",
      "Tajikistan,6,1,1,2,4,4,0,0,0,0,10,1,1,2,4\n",
      "\n",
      "Tanzania,13,0,2,0,2,0,0,0,0,0,13,0,2,0,2\n",
      "\n",
      "Thailand,16,9,8,14,31,3,0,0,0,0,19,9,8,14,31\n",
      "\n",
      "Togo,10,0,0,1,1,1,0,0,0,0,11,0,0,1,1\n",
      "\n",
      "Tonga,9,0,1,0,1,1,0,0,0,0,10,0,1,0,1\n",
      "\n",
      "Trinidad and Tobago,17,3,5,11,19,3,0,0,0,0,20,3,5,11,19\n",
      "\n",
      "Tunisia,14,4,2,7,13,0,0,0,0,0,14,4,2,7,13\n",
      "\n",
      "Turkey,22,39,24,28,91,16,0,0,0,0,38,39,24,28,91\n",
      "\n",
      "Uganda,15,2,3,2,7,0,0,0,0,0,15,2,3,2,7\n",
      "\n",
      "Ukraine,6,35,29,55,119,6,2,1,4,7,12,37,30,59,126\n",
      "\n",
      "United Arab Emirates,9,1,0,1,2,0,0,0,0,0,9,1,0,1,2\n",
      "\n",
      "United States,27,1022,794,705,2521,22,96,102,84,282,49,1118,896,788,2802\n",
      "\n",
      "Uruguay,21,2,2,6,10,1,0,0,0,0,22,2,2,6,10\n",
      "\n",
      "Uzbekistan,6,8,6,17,31,6,1,0,0,1,12,9,6,17,32\n",
      "\n",
      "Venezuela,18,2,3,10,15,4,0,0,0,0,22,2,3,10,15\n",
      "\n",
      "Vietnam,15,1,3,0,4,0,0,0,0,0,15,1,3,0,4\n",
      "\n",
      "Virgin Islands,12,0,1,0,1,7,0,0,0,0,19,0,1,0,1\n",
      "\n",
      "Yugoslavia,16,26,29,28,83,14,0,3,1,4,30,26,32,29,87\n",
      "\n",
      "Zambia,13,0,1,1,2,0,0,0,0,0,13,0,1,1,2\n",
      "\n",
      "Zimbabwe,13,3,4,1,8,1,0,0,0,0,14,3,4,1,8\n",
      "\n",
      "Independent Olympic Athletes,3,1,0,1,2,0,0,0,0,0,3,1,0,1,2\n",
      "\n",
      "Independent Olympic Participants,1,0,1,2,3,0,0,0,0,0,1,0,1,2,3\n",
      "\n",
      "Mixed team,3,8,5,4,17,0,0,0,0,0,3,8,5,4,17\n",
      "\n"
     ]
    }
   ],
   "source": [
    "#Echo the contents of a file\n",
    "#'rU' is the Universal mode for text files\n",
    "#'utf-8' can be used if it's having probems reading.\n",
    "\n",
    "\n",
    "f = open('olympics.csv')  \n",
    "for line in f:\n",
    "    print (line,)\n",
    "    \n",
    "f.close()"
   ]
  },
  {
   "cell_type": "code",
   "execution_count": null,
   "metadata": {
    "collapsed": true
   },
   "outputs": [],
   "source": []
  }
 ],
 "metadata": {
  "kernelspec": {
   "display_name": "Python 3",
   "language": "python",
   "name": "python3"
  },
  "language_info": {
   "codemirror_mode": {
    "name": "ipython",
    "version": 3
   },
   "file_extension": ".py",
   "mimetype": "text/x-python",
   "name": "python",
   "nbconvert_exporter": "python",
   "pygments_lexer": "ipython3",
   "version": "3.6.0"
  }
 },
 "nbformat": 4,
 "nbformat_minor": 2
}
